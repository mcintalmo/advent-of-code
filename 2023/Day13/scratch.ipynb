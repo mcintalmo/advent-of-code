{
 "cells": [
  {
   "cell_type": "code",
   "execution_count": 325,
   "metadata": {},
   "outputs": [],
   "source": [
    "from pathlib import Path\n",
    "import numpy as np"
   ]
  },
  {
   "cell_type": "code",
   "execution_count": 326,
   "metadata": {},
   "outputs": [
    {
     "name": "stdout",
     "output_type": "stream",
     "text": [
      "#.##..##.\n",
      "..#.##.#.\n",
      "##......#\n",
      "##......#\n",
      "..#.##.#.\n",
      "..##..##.\n",
      "#.#.##.#.\n",
      "\n",
      "#...##..#\n",
      "#....#..#\n",
      "..##..###\n",
      "#####.##.\n",
      "#####.##.\n",
      "..##..###\n",
      "#....#..#\n",
      "\n"
     ]
    }
   ],
   "source": [
    "puzzle_input = Path(\"example.txt\").read_text()\n",
    "print(puzzle_input)"
   ]
  },
  {
   "cell_type": "code",
   "execution_count": 327,
   "metadata": {},
   "outputs": [
    {
     "data": {
      "text/plain": [
       "[array([[1, 0, 1, 1, 0, 0, 1, 1, 0],\n",
       "        [0, 0, 1, 0, 1, 1, 0, 1, 0],\n",
       "        [1, 1, 0, 0, 0, 0, 0, 0, 1],\n",
       "        [1, 1, 0, 0, 0, 0, 0, 0, 1],\n",
       "        [0, 0, 1, 0, 1, 1, 0, 1, 0],\n",
       "        [0, 0, 1, 1, 0, 0, 1, 1, 0],\n",
       "        [1, 0, 1, 0, 1, 1, 0, 1, 0]]),\n",
       " array([[1, 0, 0, 0, 1, 1, 0, 0, 1],\n",
       "        [1, 0, 0, 0, 0, 1, 0, 0, 1],\n",
       "        [0, 0, 1, 1, 0, 0, 1, 1, 1],\n",
       "        [1, 1, 1, 1, 1, 0, 1, 1, 0],\n",
       "        [1, 1, 1, 1, 1, 0, 1, 1, 0],\n",
       "        [0, 0, 1, 1, 0, 0, 1, 1, 1],\n",
       "        [1, 0, 0, 0, 0, 1, 0, 0, 1]])]"
      ]
     },
     "execution_count": 327,
     "metadata": {},
     "output_type": "execute_result"
    }
   ],
   "source": [
    "puzzles = puzzle_input.split(\"\\n\\n\")\n",
    "puzzles = [\n",
    "    np.array(\n",
    "        [\n",
    "            list(line.replace(\"#\", \"1\").replace(\".\", \"0\"))\n",
    "            for line in puzzle.splitlines()\n",
    "        ],\n",
    "        dtype=int,\n",
    "    )\n",
    "    for puzzle in puzzles\n",
    "]\n",
    "puzzles"
   ]
  },
  {
   "cell_type": "code",
   "execution_count": 329,
   "metadata": {},
   "outputs": [],
   "source": [
    "def check_left_to_right(X):\n",
    "    axis = 1\n",
    "\n",
    "    X = np.copy(X)\n",
    "    start = X.shape[axis] % 2\n",
    "    for x in range(start, X.shape[axis] - 1, 2):\n",
    "        trunc = X[:, x:]\n",
    "        check = trunc - np.flip(trunc, axis=axis)\n",
    "        if not check.any():\n",
    "            return (X.shape[axis] - x) // 2 + x\n",
    "    return None\n",
    "\n",
    "\n",
    "def check_right_to_left(X):\n",
    "    axis = 1\n",
    "\n",
    "    X = np.copy(X)\n",
    "    # start = X.shape[axis] % 2 + 1\n",
    "    for x in range(2, X.shape[axis], 2):\n",
    "        trunc = X[:, :x]\n",
    "        check = trunc - np.flip(trunc, axis=axis)\n",
    "        if not check.any():\n",
    "            return x // 2\n",
    "    return None\n",
    "\n",
    "\n",
    "def check_top_to_bottom(X):\n",
    "    axis = 0\n",
    "\n",
    "    X = np.copy(X)\n",
    "    start = X.shape[axis] % 2\n",
    "    for x in range(start, X.shape[axis] - 1, 2):\n",
    "        trunc = X[x:, :]\n",
    "        check = trunc - np.flip(trunc, axis=axis)\n",
    "        if not check.any():\n",
    "            return (X.shape[axis] - x) // 2 + x\n",
    "    return None\n",
    "\n",
    "\n",
    "def check_bottom_to_top(X):\n",
    "    axis = 0\n",
    "\n",
    "    X = np.copy(X)\n",
    "    # start = X.shape[axis] % 2 + 1\n",
    "    for x in range(2, X.shape[axis], 2):\n",
    "        trunc = X[:x, :]\n",
    "        check = trunc - np.flip(trunc, axis=axis)\n",
    "        if not check.any():\n",
    "            return x // 2\n",
    "    return None\n",
    "\n",
    "\n",
    "def check(X, previous=None):\n",
    "    lr = check_left_to_right(X)\n",
    "    rl = check_right_to_left(X)\n",
    "    tb = check_top_to_bottom(X)\n",
    "    bt = check_bottom_to_top(X)\n",
    "\n",
    "    if previous is not None:\n",
    "        if lr is not None and lr != previous:\n",
    "            return lr\n",
    "        if rl is not None and rl != previous:\n",
    "            return rl\n",
    "        if tb is not None and tb * 100 != previous:\n",
    "            return tb * 100\n",
    "        if bt is not None and bt * 100 != previous:\n",
    "            return bt * 100\n",
    "        return None\n",
    "    else:\n",
    "        if lr is not None:\n",
    "            return lr\n",
    "        if rl is not None:\n",
    "            return rl\n",
    "        if tb is not None:\n",
    "            return tb * 100\n",
    "        if bt is not None:\n",
    "            return bt * 100"
   ]
  },
  {
   "cell_type": "code",
   "execution_count": 330,
   "metadata": {},
   "outputs": [
    {
     "data": {
      "text/plain": [
       "[5, 400]"
      ]
     },
     "execution_count": 330,
     "metadata": {},
     "output_type": "execute_result"
    }
   ],
   "source": [
    "results = [check(puzzle) for puzzle in puzzles]\n",
    "results"
   ]
  },
  {
   "cell_type": "code",
   "execution_count": 332,
   "metadata": {},
   "outputs": [
    {
     "data": {
      "text/plain": [
       "405"
      ]
     },
     "execution_count": 332,
     "metadata": {},
     "output_type": "execute_result"
    }
   ],
   "source": [
    "np.sum(results)"
   ]
  },
  {
   "cell_type": "markdown",
   "metadata": {},
   "source": [
    "# Part II"
   ]
  },
  {
   "cell_type": "code",
   "execution_count": 333,
   "metadata": {},
   "outputs": [
    {
     "data": {
      "text/plain": [
       "[300, 100]"
      ]
     },
     "execution_count": 333,
     "metadata": {},
     "output_type": "execute_result"
    }
   ],
   "source": [
    "unsmudged_results = []  # [check(puzzle) for puzzle in puzzles]\n",
    "for index, puzzle in enumerate(puzzles):\n",
    "    found = False\n",
    "    for i in range(puzzle.shape[0]):\n",
    "        for j in range(puzzle.shape[1]):\n",
    "            unsmudged = np.copy(puzzle)\n",
    "            unsmudged[i][j] = 1 - puzzle[i][j]\n",
    "            result = check(unsmudged, previous=results[index])\n",
    "            if result is not None:\n",
    "                found = True\n",
    "                unsmudged_results.append(result)\n",
    "                break\n",
    "            if found:\n",
    "                break\n",
    "        if found:\n",
    "            break\n",
    "    if not found:\n",
    "        print(index)\n",
    "unsmudged_results"
   ]
  },
  {
   "cell_type": "code",
   "execution_count": 334,
   "metadata": {},
   "outputs": [
    {
     "data": {
      "text/plain": [
       "400"
      ]
     },
     "execution_count": 334,
     "metadata": {},
     "output_type": "execute_result"
    }
   ],
   "source": [
    "np.sum(unsmudged_results)"
   ]
  }
 ],
 "metadata": {
  "kernelspec": {
   "display_name": "advent-of-code",
   "language": "python",
   "name": "python3"
  },
  "language_info": {
   "codemirror_mode": {
    "name": "ipython",
    "version": 3
   },
   "file_extension": ".py",
   "mimetype": "text/x-python",
   "name": "python",
   "nbconvert_exporter": "python",
   "pygments_lexer": "ipython3",
   "version": "3.11.0"
  }
 },
 "nbformat": 4,
 "nbformat_minor": 2
}

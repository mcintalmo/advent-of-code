{
 "cells": [
  {
   "cell_type": "code",
   "execution_count": 41,
   "metadata": {},
   "outputs": [],
   "source": [
    "import numpy as np\n",
    "from pathlib import Path\n",
    "from itertools import permutations"
   ]
  },
  {
   "cell_type": "code",
   "execution_count": 42,
   "metadata": {},
   "outputs": [
    {
     "name": "stdout",
     "output_type": "stream",
     "text": [
      "...#......\n",
      ".......#..\n",
      "#.........\n",
      "..........\n",
      "......#...\n",
      ".#........\n",
      ".........#\n",
      "..........\n",
      ".......#..\n",
      "#...#.....\n",
      "\n"
     ]
    }
   ],
   "source": [
    "puzzle_input = Path(\"example.txt\").read_text()\n",
    "print(puzzle_input)"
   ]
  },
  {
   "cell_type": "code",
   "execution_count": 43,
   "metadata": {},
   "outputs": [
    {
     "name": "stdout",
     "output_type": "stream",
     "text": [
      "Shape: (10, 10)\n",
      "[[0 0 0 1 0 0 0 0 0 0]\n",
      " [0 0 0 0 0 0 0 1 0 0]\n",
      " [1 0 0 0 0 0 0 0 0 0]\n",
      " [0 0 0 0 0 0 0 0 0 0]\n",
      " [0 0 0 0 0 0 1 0 0 0]\n",
      " [0 1 0 0 0 0 0 0 0 0]\n",
      " [0 0 0 0 0 0 0 0 0 1]\n",
      " [0 0 0 0 0 0 0 0 0 0]\n",
      " [0 0 0 0 0 0 0 1 0 0]\n",
      " [1 0 0 0 1 0 0 0 0 0]]\n"
     ]
    }
   ],
   "source": [
    "lines = puzzle_input.splitlines()\n",
    "arr = np.array([list(line) for line in lines])\n",
    "arr = np.where(arr == \"#\", 1, 0)\n",
    "print(f\"Shape: {arr.shape}\")\n",
    "print(arr)"
   ]
  },
  {
   "cell_type": "code",
   "execution_count": 44,
   "metadata": {},
   "outputs": [
    {
     "name": "stdout",
     "output_type": "stream",
     "text": [
      "[2 5 8] [3 7]\n"
     ]
    }
   ],
   "source": [
    "empty_space = np.where(arr.sum(axis=0) == 0)[0], np.where(arr.sum(axis=1) == 0)[0]\n",
    "print(empty_space[0], empty_space[1])"
   ]
  },
  {
   "cell_type": "code",
   "execution_count": 45,
   "metadata": {},
   "outputs": [
    {
     "name": "stdout",
     "output_type": "stream",
     "text": [
      "[[3 0]\n",
      " [7 1]\n",
      " [0 2]\n",
      " [6 4]\n",
      " [1 5]\n",
      " [9 6]\n",
      " [7 8]\n",
      " [0 9]\n",
      " [4 9]]\n"
     ]
    }
   ],
   "source": [
    "y, x = np.where(arr == 1)\n",
    "stars = np.array([[x, y] for x, y in zip(x, y)])\n",
    "print(stars)"
   ]
  },
  {
   "cell_type": "code",
   "execution_count": 46,
   "metadata": {},
   "outputs": [],
   "source": [
    "def dist(start, end, expansion=2):\n",
    "    cross_x = (start[0] < empty_space[0]) & (end[0] > empty_space[0])\n",
    "    cross_y = (start[1] < empty_space[1]) & (end[1] > empty_space[1])\n",
    "    crosses = cross_x.sum() + cross_y.sum()\n",
    "    empty_space_modifier = crosses * (expansion - 1)\n",
    "    return np.abs(start - end) + empty_space_modifier"
   ]
  },
  {
   "cell_type": "markdown",
   "metadata": {},
   "source": [
    "## Part I"
   ]
  },
  {
   "cell_type": "code",
   "execution_count": 47,
   "metadata": {},
   "outputs": [
    {
     "data": {
      "text/plain": [
       "374"
      ]
     },
     "execution_count": 47,
     "metadata": {},
     "output_type": "execute_result"
    }
   ],
   "source": [
    "np.array([dist(start, end) for start, end in permutations(stars, 2)]).sum() // 2"
   ]
  },
  {
   "cell_type": "markdown",
   "metadata": {},
   "source": [
    "## Part II"
   ]
  },
  {
   "cell_type": "code",
   "execution_count": 48,
   "metadata": {},
   "outputs": [
    {
     "data": {
      "text/plain": [
       "1030"
      ]
     },
     "execution_count": 48,
     "metadata": {},
     "output_type": "execute_result"
    }
   ],
   "source": [
    "np.array([dist(start, end, 10) for start, end in permutations(stars, 2)]).sum() // 2"
   ]
  },
  {
   "cell_type": "code",
   "execution_count": 49,
   "metadata": {},
   "outputs": [
    {
     "data": {
      "text/plain": [
       "8410"
      ]
     },
     "execution_count": 49,
     "metadata": {},
     "output_type": "execute_result"
    }
   ],
   "source": [
    "np.array([dist(start, end, 100) for start, end in permutations(stars, 2)]).sum() // 2"
   ]
  }
 ],
 "metadata": {
  "kernelspec": {
   "display_name": "advent-of-code",
   "language": "python",
   "name": "python3"
  },
  "language_info": {
   "codemirror_mode": {
    "name": "ipython",
    "version": 3
   },
   "file_extension": ".py",
   "mimetype": "text/x-python",
   "name": "python",
   "nbconvert_exporter": "python",
   "pygments_lexer": "ipython3",
   "version": "3.11.0"
  }
 },
 "nbformat": 4,
 "nbformat_minor": 2
}

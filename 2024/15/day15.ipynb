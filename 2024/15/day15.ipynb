{
 "cells": [
  {
   "cell_type": "code",
   "execution_count": 672,
   "metadata": {},
   "outputs": [],
   "source": [
    "from pathlib import Path\n",
    "import numpy as np"
   ]
  },
  {
   "cell_type": "code",
   "execution_count": 673,
   "metadata": {},
   "outputs": [
    {
     "name": "stdout",
     "output_type": "stream",
     "text": [
      "##########\n",
      "#..O..O.O#\n",
      "#......O.#\n",
      "#.OO..O.O#\n",
      "#..O@..O.#\n",
      "#O#..O...#\n",
      "#O..O..O.#\n",
      "#.OO.O.OO#\n",
      "#....O...#\n",
      "##########\n",
      "\n",
      "<vv>^<v^>v>^vv^v>v<>v^v<v<^vv<<<^><<><>>v<vvv<>^v^>^<<<><<v<<<v^vv^v>^\n",
      "vvv<<^>^v^^><<>>><>^<<><^vv^^<>vvv<>><^^v>^>vv<>v<<<<v<^v>^<^^>>>^<v<v\n",
      "><>vv>v^v^<>><>>>><^^>vv>v<^^^>>v^v^<^^>v^^>v^<^v>v<>>v^v^<v>v^^<^^vv<\n",
      "<<v<^>>^^^^>>>v^<>vvv^><v<<<>^^^vv^<vvv>^>v<^^^^v<>^>vvvv><>>v^<<^^^^^\n",
      "^><^><>>><>^^<<^^v>>><^<v>^<vv>>v>>>^v><>^v><<<<v>>v<v<v>vvv>^<><<>^><\n",
      "^>><>^v<><^vvv<^^<><v<<<<<><^v<<<><<<^^<v<^^^><^>>^<v^><<<^>>^v<v^v<v^\n",
      ">^>>^v>vv>^<<^v<>><<><<v<<v><>v<^vv<<<>^^v^>^^>>><<^v>>v^v><^^>>^<>vv^\n",
      "<><^^>^^^<><vvvvv^v<v<<>^v<v>v<<^><<><<><<<^^<<<^<<>><<><^^^>^^<>^>v<>\n",
      "^^>vv<^v^v<vv>^<><v<^v>^^^>>>^^vvv^>vvv<>>>^<^>>>>>^<<^v>^vvv<>^<><<v>\n",
      "v^^>>><<^^<>>^v^<v^vv<>v^<<>^<^v^v><^<<<><<^<v><v<>vv>>v><v^<vv<>v^<<^\n",
      "\n"
     ]
    }
   ],
   "source": [
    "input_path = \"example.txt\"\n",
    "input = Path(input_path).read_text()\n",
    "print(input)"
   ]
  },
  {
   "cell_type": "markdown",
   "metadata": {},
   "source": [
    "## Part I"
   ]
  },
  {
   "cell_type": "code",
   "execution_count": 674,
   "metadata": {},
   "outputs": [],
   "source": [
    "EMPTY = 0\n",
    "ROBOT = 1\n",
    "BOX = 2\n",
    "WALL = 3\n",
    "\n",
    "entity_map = {\n",
    "    \"@\": ROBOT,\n",
    "    \"O\": BOX,\n",
    "    \"#\": WALL,\n",
    "    \".\": EMPTY,\n",
    "}\n",
    "\n",
    "direction_map = {\n",
    "    \"^\": np.array([-1, 0]),\n",
    "    \">\": np.array([0, 1]),\n",
    "    \"v\": np.array([1, 0]),\n",
    "    \"<\": np.array([0, -1]),\n",
    "}"
   ]
  },
  {
   "cell_type": "code",
   "execution_count": 675,
   "metadata": {},
   "outputs": [],
   "source": [
    "warehouse_string, directions_string = input.split(\"\\n\\n\")"
   ]
  },
  {
   "cell_type": "code",
   "execution_count": 676,
   "metadata": {},
   "outputs": [
    {
     "name": "stdout",
     "output_type": "stream",
     "text": [
      "[[3 3 3 3 3 3 3 3 3 3]\n",
      " [3 0 0 2 0 0 2 0 2 3]\n",
      " [3 0 0 0 0 0 0 2 0 3]\n",
      " [3 0 2 2 0 0 2 0 2 3]\n",
      " [3 0 0 2 1 0 0 2 0 3]\n",
      " [3 2 3 0 0 2 0 0 0 3]\n",
      " [3 2 0 0 2 0 0 2 0 3]\n",
      " [3 0 2 2 0 2 0 2 2 3]\n",
      " [3 0 0 0 0 2 0 0 0 3]\n",
      " [3 3 3 3 3 3 3 3 3 3]]\n"
     ]
    }
   ],
   "source": [
    "warehouse = np.array(\n",
    "    [\n",
    "        [entity_map[character] for character in line]\n",
    "        for line in warehouse_string.splitlines()\n",
    "    ],\n",
    "    dtype=np.int8,\n",
    ")\n",
    "print(warehouse)"
   ]
  },
  {
   "cell_type": "code",
   "execution_count": 677,
   "metadata": {},
   "outputs": [],
   "source": [
    "directions = [\n",
    "    direction_map[direction_character]\n",
    "    for direction_character in directions_string.replace(\"\\n\", \"\")\n",
    "]"
   ]
  },
  {
   "cell_type": "code",
   "execution_count": 678,
   "metadata": {},
   "outputs": [],
   "source": [
    "def move(old_position, direction, type) -> np.ndarray:\n",
    "    attempt_position = old_position + direction\n",
    "    if warehouse[tuple(attempt_position)] == WALL:\n",
    "        return False\n",
    "    if warehouse[tuple(attempt_position)] == EMPTY:\n",
    "        warehouse[tuple(old_position)] = EMPTY\n",
    "        warehouse[tuple(attempt_position)] = type\n",
    "        return True\n",
    "    if warehouse[tuple(attempt_position)] == BOX:\n",
    "        if move(attempt_position, direction, BOX):\n",
    "            warehouse[tuple(old_position)] = EMPTY\n",
    "            warehouse[tuple(attempt_position)] = type\n",
    "            return True\n",
    "        else:\n",
    "            return False\n",
    "\n",
    "\n",
    "for direction in directions:\n",
    "    robot_position = np.argwhere(warehouse == ROBOT)[0]\n",
    "    move(robot_position, direction, ROBOT)"
   ]
  },
  {
   "cell_type": "code",
   "execution_count": 679,
   "metadata": {},
   "outputs": [
    {
     "name": "stdout",
     "output_type": "stream",
     "text": [
      "[[3 3 3 3 3 3 3 3 3 3]\n",
      " [3 0 2 0 2 0 2 2 2 3]\n",
      " [3 0 0 0 0 0 0 0 0 3]\n",
      " [3 2 2 0 0 0 0 0 0 3]\n",
      " [3 2 2 1 0 0 0 0 0 3]\n",
      " [3 2 3 0 0 0 0 0 2 3]\n",
      " [3 2 0 0 0 0 0 2 2 3]\n",
      " [3 2 0 0 0 0 0 2 2 3]\n",
      " [3 2 2 0 0 0 0 2 2 3]\n",
      " [3 3 3 3 3 3 3 3 3 3]]\n"
     ]
    }
   ],
   "source": [
    "print(warehouse)"
   ]
  },
  {
   "cell_type": "code",
   "execution_count": 680,
   "metadata": {},
   "outputs": [
    {
     "data": {
      "text/plain": [
       "10092"
      ]
     },
     "execution_count": 680,
     "metadata": {},
     "output_type": "execute_result"
    }
   ],
   "source": [
    "box_positions = np.argwhere(warehouse == BOX)\n",
    "gps_coords = box_positions * np.array([100, 1])\n",
    "np.sum(gps_coords)"
   ]
  },
  {
   "cell_type": "markdown",
   "metadata": {},
   "source": [
    "## Part II"
   ]
  },
  {
   "cell_type": "code",
   "execution_count": 681,
   "metadata": {},
   "outputs": [
    {
     "name": "stdout",
     "output_type": "stream",
     "text": [
      "####################\n",
      "##....[]....[]..[]##\n",
      "##............[]..##\n",
      "##..[][]....[]..[]##\n",
      "##....[]@.....[]..##\n",
      "##[]##....[]......##\n",
      "##[]....[]....[]..##\n",
      "##..[][]..[]..[][]##\n",
      "##........[]......##\n",
      "####################\n"
     ]
    }
   ],
   "source": [
    "# widening map\n",
    "EMPTY = 0\n",
    "ROBOT = 1\n",
    "BOX = 2\n",
    "WALL = 3\n",
    "LEFT_BOX = 8\n",
    "RIGHT_BOX = 9\n",
    "\n",
    "widening_map = {\n",
    "    \".\": \"..\",\n",
    "    \"@\": \"@.\",\n",
    "    \"O\": \"[]\",\n",
    "    \"#\": \"##\",\n",
    "}\n",
    "\n",
    "entity_map = {\n",
    "    \"@\": ROBOT,\n",
    "    \"[\": LEFT_BOX,\n",
    "    \"]\": RIGHT_BOX,\n",
    "    \"#\": WALL,\n",
    "    \".\": EMPTY,\n",
    "}\n",
    "\n",
    "\n",
    "wide_warehouse_string = warehouse_string\n",
    "for entity, wide_entity in widening_map.items():\n",
    "    wide_warehouse_string = wide_warehouse_string.replace(entity, wide_entity)\n",
    "print(wide_warehouse_string)"
   ]
  },
  {
   "cell_type": "code",
   "execution_count": null,
   "metadata": {},
   "outputs": [],
   "source": [
    "wide_warehouse = np.array(\n",
    "    [\n",
    "        [entity_map[character] for character in line]\n",
    "        for line in wide_warehouse_string.splitlines()\n",
    "    ],\n",
    "    dtype=np.int8,\n",
    ")\n",
    "print(wide_warehouse)"
   ]
  },
  {
   "cell_type": "code",
   "execution_count": 682,
   "metadata": {},
   "outputs": [],
   "source": [
    "def check_move(from_position: np.ndarray, direction: np.ndarray) -> bool:\n",
    "    to_position = from_position + direction\n",
    "    in_way = wide_warehouse[tuple(to_position)]\n",
    "    if in_way == EMPTY:\n",
    "        return True\n",
    "\n",
    "    if in_way == WALL:\n",
    "        return False\n",
    "\n",
    "    if (direction == direction_map[\"^\"]).all() or (\n",
    "        direction == direction_map[\"v\"]\n",
    "    ).all():\n",
    "        if in_way == LEFT_BOX:\n",
    "            right_box = check_move(to_position + direction_map[\">\"], direction)\n",
    "            left_box = check_move(to_position, direction)\n",
    "        elif in_way == RIGHT_BOX:\n",
    "            right_box = check_move(to_position, direction)\n",
    "            left_box = check_move(to_position + direction_map[\"<\"], direction)\n",
    "        return right_box and left_box\n",
    "\n",
    "    if (direction == direction_map[\">\"]).all() or (\n",
    "        direction == direction_map[\"<\"]\n",
    "    ).all():\n",
    "        return check_move(to_position, direction)\n",
    "\n",
    "    raise Exception\n",
    "\n",
    "\n",
    "def do_move(from_position: np.ndarray, direction: np.ndarray) -> None:\n",
    "    to_position = from_position + direction\n",
    "    in_way = wide_warehouse[tuple(to_position)]\n",
    "    \n",
    "    if in_way == WALL:\n",
    "        raise Exception\n",
    "    \n",
    "    if in_way == EMPTY:\n",
    "        entity = wide_warehouse[tuple(from_position)]\n",
    "        wide_warehouse[tuple(from_position)] = EMPTY\n",
    "        wide_warehouse[tuple(to_position)] = entity\n",
    "        return\n",
    "\n",
    "    if (direction == direction_map[\"^\"]).all() or (\n",
    "        direction == direction_map[\"v\"]\n",
    "    ).all():\n",
    "        if in_way == LEFT_BOX:\n",
    "            do_move(to_position + direction_map[\">\"], direction)\n",
    "            do_move(to_position, direction)\n",
    "            do_move(from_position, direction)\n",
    "        elif in_way == RIGHT_BOX:\n",
    "            do_move(to_position + direction_map[\"<\"], direction)\n",
    "            do_move(to_position, direction)\n",
    "            do_move(from_position, direction)\n",
    "        else:\n",
    "            raise Exception\n",
    "        return\n",
    "\n",
    "    if (direction == direction_map[\">\"]).all() or (\n",
    "        direction == direction_map[\"<\"]\n",
    "    ).all():\n",
    "        do_move(to_position, direction)\n",
    "        do_move(from_position, direction)"
   ]
  },
  {
   "cell_type": "code",
   "execution_count": 683,
   "metadata": {},
   "outputs": [
    {
     "name": "stdout",
     "output_type": "stream",
     "text": [
      "[[3 3 3 3 3 3 3 3 3 3 3 3 3 3 3 3 3 3 3 3]\n",
      " [3 3 8 9 0 0 0 0 0 0 0 8 9 0 8 9 8 9 3 3]\n",
      " [3 3 8 9 0 0 0 0 0 0 0 0 0 0 0 8 9 0 3 3]\n",
      " [3 3 8 9 0 0 0 0 0 0 0 0 8 9 8 9 8 9 3 3]\n",
      " [3 3 8 9 0 0 0 0 0 0 8 9 0 0 0 0 8 9 3 3]\n",
      " [3 3 0 0 3 3 0 0 0 0 0 0 8 9 0 0 0 0 3 3]\n",
      " [3 3 0 0 8 9 0 0 0 0 0 0 0 0 0 0 0 0 3 3]\n",
      " [3 3 0 0 1 0 0 0 0 0 0 8 9 0 8 9 8 9 3 3]\n",
      " [3 3 0 0 0 0 0 0 8 9 8 9 0 0 8 9 0 0 3 3]\n",
      " [3 3 3 3 3 3 3 3 3 3 3 3 3 3 3 3 3 3 3 3]]\n"
     ]
    }
   ],
   "source": [
    "for direction in directions[:]:\n",
    "    robot_position = np.argwhere(wide_warehouse == ROBOT)[0]\n",
    "    if check_move(robot_position, direction):\n",
    "        do_move(robot_position, direction)\n",
    "\n",
    "print(wide_warehouse)"
   ]
  },
  {
   "cell_type": "code",
   "execution_count": 684,
   "metadata": {},
   "outputs": [
    {
     "data": {
      "text/plain": [
       "9021"
      ]
     },
     "execution_count": 684,
     "metadata": {},
     "output_type": "execute_result"
    }
   ],
   "source": [
    "box_positions = np.argwhere(wide_warehouse == LEFT_BOX)\n",
    "gps_coords = box_positions * np.array([100, 1])\n",
    "np.sum(gps_coords)"
   ]
  }
 ],
 "metadata": {
  "kernelspec": {
   "display_name": "analysis",
   "language": "python",
   "name": "python3"
  },
  "language_info": {
   "codemirror_mode": {
    "name": "ipython",
    "version": 3
   },
   "file_extension": ".py",
   "mimetype": "text/x-python",
   "name": "python",
   "nbconvert_exporter": "python",
   "pygments_lexer": "ipython3",
   "version": "3.12.1"
  }
 },
 "nbformat": 4,
 "nbformat_minor": 2
}

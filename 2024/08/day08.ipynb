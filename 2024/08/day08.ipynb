{
 "cells": [
  {
   "cell_type": "code",
   "execution_count": 1,
   "metadata": {},
   "outputs": [],
   "source": [
    "from pathlib import Path\n",
    "import numpy as np"
   ]
  },
  {
   "cell_type": "code",
   "execution_count": 2,
   "metadata": {},
   "outputs": [
    {
     "name": "stdout",
     "output_type": "stream",
     "text": [
      "............\n",
      "........0...\n",
      ".....0......\n",
      ".......0....\n",
      "....0.......\n",
      "......A.....\n",
      "............\n",
      "............\n",
      "........A...\n",
      ".........A..\n",
      "............\n",
      "............\n",
      "\n"
     ]
    }
   ],
   "source": [
    "input = Path(\"example.txt\").read_text()\n",
    "EMPTY = \".\"\n",
    "print(input)"
   ]
  },
  {
   "cell_type": "code",
   "execution_count": 3,
   "metadata": {},
   "outputs": [
    {
     "data": {
      "text/plain": [
       "array([['.', '.', '.', '.', '.', '.', '.', '.', '.', '.', '.', '.'],\n",
       "       ['.', '.', '.', '.', '.', '.', '.', '.', '0', '.', '.', '.'],\n",
       "       ['.', '.', '.', '.', '.', '0', '.', '.', '.', '.', '.', '.'],\n",
       "       ['.', '.', '.', '.', '.', '.', '.', '0', '.', '.', '.', '.'],\n",
       "       ['.', '.', '.', '.', '0', '.', '.', '.', '.', '.', '.', '.'],\n",
       "       ['.', '.', '.', '.', '.', '.', 'A', '.', '.', '.', '.', '.'],\n",
       "       ['.', '.', '.', '.', '.', '.', '.', '.', '.', '.', '.', '.'],\n",
       "       ['.', '.', '.', '.', '.', '.', '.', '.', '.', '.', '.', '.'],\n",
       "       ['.', '.', '.', '.', '.', '.', '.', '.', 'A', '.', '.', '.'],\n",
       "       ['.', '.', '.', '.', '.', '.', '.', '.', '.', 'A', '.', '.'],\n",
       "       ['.', '.', '.', '.', '.', '.', '.', '.', '.', '.', '.', '.'],\n",
       "       ['.', '.', '.', '.', '.', '.', '.', '.', '.', '.', '.', '.']],\n",
       "      dtype='<U1')"
      ]
     },
     "execution_count": 3,
     "metadata": {},
     "output_type": "execute_result"
    }
   ],
   "source": [
    "city = np.array([[value for value in line] for line in input.splitlines()])\n",
    "city"
   ]
  },
  {
   "cell_type": "code",
   "execution_count": 4,
   "metadata": {},
   "outputs": [
    {
     "data": {
      "text/plain": [
       "array(['0', 'A'], dtype='<U1')"
      ]
     },
     "execution_count": 4,
     "metadata": {},
     "output_type": "execute_result"
    }
   ],
   "source": [
    "frequencies = np.unique(city)\n",
    "frequencies = frequencies[frequencies != EMPTY]\n",
    "frequencies"
   ]
  },
  {
   "cell_type": "code",
   "execution_count": 5,
   "metadata": {},
   "outputs": [
    {
     "data": {
      "text/plain": [
       "[array([[1, 8],\n",
       "        [2, 5],\n",
       "        [3, 7],\n",
       "        [4, 4]], dtype=int64),\n",
       " array([[5, 6],\n",
       "        [8, 8],\n",
       "        [9, 9]], dtype=int64)]"
      ]
     },
     "execution_count": 5,
     "metadata": {},
     "output_type": "execute_result"
    }
   ],
   "source": [
    "antenna_locations = [np.argwhere(city == frequency) for frequency in frequencies]\n",
    "antenna_locations"
   ]
  },
  {
   "cell_type": "code",
   "execution_count": 6,
   "metadata": {},
   "outputs": [
    {
     "data": {
      "text/plain": [
       "array([[ 3,  2],\n",
       "       [ 5,  6],\n",
       "       [ 7,  0],\n",
       "       [ 0, 11],\n",
       "       [ 4,  9],\n",
       "       [ 6,  3],\n",
       "       [-1,  9],\n",
       "       [ 1,  3],\n",
       "       [ 5,  1],\n",
       "       [-2, 12],\n",
       "       [ 0,  6],\n",
       "       [ 2, 10],\n",
       "       [11, 10],\n",
       "       [13, 12],\n",
       "       [ 2,  4],\n",
       "       [10, 10],\n",
       "       [ 1,  3],\n",
       "       [ 7,  7]], dtype=int64)"
      ]
     },
     "execution_count": 6,
     "metadata": {},
     "output_type": "execute_result"
    }
   ],
   "source": [
    "all_antinodes = []\n",
    "for antenna_location in antenna_locations:\n",
    "    resonance = antenna_location[:, np.newaxis] - antenna_location\n",
    "    antinodes = antenna_location - resonance\n",
    "    # remove the orifinal location of the antenna from the antinodes\n",
    "    antinodes = np.concatenate(\n",
    "        [\n",
    "            antinode[(antinode != original).all(axis=1)]\n",
    "            for original, antinode in zip(antenna_location, antinodes)\n",
    "        ]\n",
    "    )\n",
    "    all_antinodes.append(antinodes)\n",
    "    antinodes.shape\n",
    "all_antinodes = np.concatenate(all_antinodes)\n",
    "all_antinodes"
   ]
  },
  {
   "cell_type": "code",
   "execution_count": 7,
   "metadata": {},
   "outputs": [
    {
     "data": {
      "text/plain": [
       "array([[-2, 12],\n",
       "       [-1,  9],\n",
       "       [ 0,  6],\n",
       "       [ 0, 11],\n",
       "       [ 1,  3],\n",
       "       [ 2,  4],\n",
       "       [ 2, 10],\n",
       "       [ 3,  2],\n",
       "       [ 4,  9],\n",
       "       [ 5,  1],\n",
       "       [ 5,  6],\n",
       "       [ 6,  3],\n",
       "       [ 7,  0],\n",
       "       [ 7,  7],\n",
       "       [10, 10],\n",
       "       [11, 10],\n",
       "       [13, 12]], dtype=int64)"
      ]
     },
     "execution_count": 7,
     "metadata": {},
     "output_type": "execute_result"
    }
   ],
   "source": [
    "unique_antinodes = np.unique(all_antinodes, axis=0)\n",
    "unique_antinodes"
   ]
  },
  {
   "cell_type": "code",
   "execution_count": 8,
   "metadata": {},
   "outputs": [
    {
     "data": {
      "text/plain": [
       "array([[ 0,  6],\n",
       "       [ 0, 11],\n",
       "       [ 1,  3],\n",
       "       [ 2,  4],\n",
       "       [ 2, 10],\n",
       "       [ 3,  2],\n",
       "       [ 4,  9],\n",
       "       [ 5,  1],\n",
       "       [ 5,  6],\n",
       "       [ 6,  3],\n",
       "       [ 7,  0],\n",
       "       [ 7,  7],\n",
       "       [10, 10],\n",
       "       [11, 10]], dtype=int64)"
      ]
     },
     "execution_count": 8,
     "metadata": {},
     "output_type": "execute_result"
    }
   ],
   "source": [
    "in_city = unique_antinodes[\n",
    "    (unique_antinodes[:, 0] >= 0)\n",
    "    & (unique_antinodes[:, 1] >= 0)\n",
    "    & (unique_antinodes[:, 0] < city.shape[0])\n",
    "    & (unique_antinodes[:, 1] < city.shape[1])\n",
    "]\n",
    "in_city"
   ]
  },
  {
   "cell_type": "code",
   "execution_count": 9,
   "metadata": {},
   "outputs": [
    {
     "data": {
      "text/plain": [
       "14"
      ]
     },
     "execution_count": 9,
     "metadata": {},
     "output_type": "execute_result"
    }
   ],
   "source": [
    "in_city.shape[0]"
   ]
  },
  {
   "cell_type": "code",
   "execution_count": 10,
   "metadata": {},
   "outputs": [
    {
     "data": {
      "text/plain": [
       "34"
      ]
     },
     "execution_count": 10,
     "metadata": {},
     "output_type": "execute_result"
    }
   ],
   "source": [
    "# Solution 2\n",
    "all_antinodes = []\n",
    "for antenna_location in antenna_locations:\n",
    "    resonance = antenna_location[:, np.newaxis] - antenna_location\n",
    "    harmonics = np.arange(city.shape[0])[:, np.newaxis, np.newaxis, np.newaxis]\n",
    "    antinodes = (antenna_location - resonance * harmonics).reshape(-1, 2)\n",
    "    all_antinodes.append(antinodes)\n",
    "all_antinodes = np.concatenate(all_antinodes)\n",
    "unique_antinodes = np.unique(all_antinodes, axis=0)\n",
    "in_city = unique_antinodes[\n",
    "    (unique_antinodes[:, 0] >= 0)\n",
    "    & (unique_antinodes[:, 1] >= 0)\n",
    "    & (unique_antinodes[:, 0] < city.shape[0])\n",
    "    & (unique_antinodes[:, 1] < city.shape[1])\n",
    "]\n",
    "in_city.shape[0]"
   ]
  }
 ],
 "metadata": {
  "kernelspec": {
   "display_name": "analysis",
   "language": "python",
   "name": "python3"
  },
  "language_info": {
   "codemirror_mode": {
    "name": "ipython",
    "version": 3
   },
   "file_extension": ".py",
   "mimetype": "text/x-python",
   "name": "python",
   "nbconvert_exporter": "python",
   "pygments_lexer": "ipython3",
   "version": "3.12.1"
  }
 },
 "nbformat": 4,
 "nbformat_minor": 2
}

{
 "cells": [
  {
   "cell_type": "code",
   "execution_count": 1,
   "metadata": {},
   "outputs": [],
   "source": [
    "import re\n",
    "from pathlib import Path"
   ]
  },
  {
   "cell_type": "code",
   "execution_count": 2,
   "metadata": {},
   "outputs": [
    {
     "name": "stdout",
     "output_type": "stream",
     "text": [
      "xmul(2,4)&mul[3,7]!^don't()_mul(5,5)+mul(32,64](mul(11,8)undo()?mul(8,5))\n",
      "\n"
     ]
    }
   ],
   "source": [
    "# Solution 1\n",
    "input = Path(\"example2.txt\").read_text()\n",
    "print(input)"
   ]
  },
  {
   "cell_type": "code",
   "execution_count": 3,
   "metadata": {},
   "outputs": [
    {
     "data": {
      "text/plain": [
       "161"
      ]
     },
     "execution_count": 3,
     "metadata": {},
     "output_type": "execute_result"
    }
   ],
   "source": [
    "pattern = r\"mul\\((\\d+),(\\d+)\\)\"\n",
    "\n",
    "\n",
    "def mul(match: re.Match) -> int:\n",
    "    x = match.group(1)\n",
    "    x = int(x)\n",
    "    y = match.group(2)\n",
    "    y = int(y)\n",
    "    return x * y\n",
    "\n",
    "\n",
    "muls = [mul(match) for match in re.finditer(pattern, input)]\n",
    "sum(muls)"
   ]
  },
  {
   "cell_type": "code",
   "execution_count": 4,
   "metadata": {},
   "outputs": [
    {
     "name": "stdout",
     "output_type": "stream",
     "text": [
      "xmul(2,4)&mul[3,7]!^don't()_mul(5,5)+mul(32,64](mul(11,8)undo()?mul(8,5))\n",
      "\n"
     ]
    }
   ],
   "source": [
    "# Solution 2\n",
    "input = Path(\"example2.txt\").read_text()\n",
    "print(input)"
   ]
  },
  {
   "cell_type": "code",
   "execution_count": 5,
   "metadata": {},
   "outputs": [
    {
     "data": {
      "text/plain": [
       "48"
      ]
     },
     "execution_count": 5,
     "metadata": {},
     "output_type": "execute_result"
    }
   ],
   "source": [
    "pattern = r\"mul\\((\\d+),(\\d+)\\)|don't\\(\\)|do\\(\\)\"\n",
    "\n",
    "do = True\n",
    "muls = []\n",
    "for match in re.finditer(pattern, input):\n",
    "    if match.group() == \"don't()\":\n",
    "        do = False\n",
    "    elif match.group() == \"do()\":\n",
    "        do = True\n",
    "        continue\n",
    "    if not do:\n",
    "        continue\n",
    "    muls.append(mul(match))\n",
    "\n",
    "sum(muls)"
   ]
  }
 ],
 "metadata": {
  "kernelspec": {
   "display_name": "analysis",
   "language": "python",
   "name": "python3"
  },
  "language_info": {
   "codemirror_mode": {
    "name": "ipython",
    "version": 3
   },
   "file_extension": ".py",
   "mimetype": "text/x-python",
   "name": "python",
   "nbconvert_exporter": "python",
   "pygments_lexer": "ipython3",
   "version": "3.12.1"
  }
 },
 "nbformat": 4,
 "nbformat_minor": 2
}

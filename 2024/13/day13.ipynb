{
 "cells": [
  {
   "cell_type": "code",
   "execution_count": 1,
   "metadata": {},
   "outputs": [],
   "source": [
    "import re\n",
    "from pathlib import Path\n",
    "\n",
    "import numpy as np"
   ]
  },
  {
   "cell_type": "code",
   "execution_count": 2,
   "metadata": {},
   "outputs": [
    {
     "name": "stdout",
     "output_type": "stream",
     "text": [
      "Button A: X+94, Y+34\n",
      "Button B: X+22, Y+67\n",
      "Prize: X=8400, Y=5400\n",
      "\n",
      "Button A: X+26, Y+66\n",
      "Button B: X+67, Y+21\n",
      "Prize: X=12748, Y=12176\n",
      "\n",
      "Button A: X+17, Y+86\n",
      "Button B: X+84, Y+37\n",
      "Prize: X=7870, Y=6450\n",
      "\n",
      "Button A: X+69, Y+23\n",
      "Button B: X+27, Y+71\n",
      "Prize: X=18641, Y=10279\n",
      "\n"
     ]
    }
   ],
   "source": [
    "input = Path(\"example.txt\").read_text()\n",
    "print(input)"
   ]
  },
  {
   "cell_type": "code",
   "execution_count": 3,
   "metadata": {},
   "outputs": [
    {
     "name": "stdout",
     "output_type": "stream",
     "text": [
      "[3 1]\n"
     ]
    }
   ],
   "source": [
    "cost = np.array([3, 1], dtype=np.int64)\n",
    "print(cost)"
   ]
  },
  {
   "cell_type": "code",
   "execution_count": 4,
   "metadata": {},
   "outputs": [
    {
     "data": {
      "text/plain": [
       "[('94', '34', '22', '67', '8400', '5400'),\n",
       " ('26', '66', '67', '21', '12748', '12176'),\n",
       " ('17', '86', '84', '37', '7870', '6450'),\n",
       " ('69', '23', '27', '71', '18641', '10279')]"
      ]
     },
     "execution_count": 4,
     "metadata": {},
     "output_type": "execute_result"
    }
   ],
   "source": [
    "data = re.findall(\n",
    "    r\"Button A: X\\+(?P<A_00>\\d*), Y\\+(?P<A_01>\\d*)\\n\"\n",
    "    r\"Button B: X\\+(?P<A_10>\\d*), Y\\+(?P<A_11>\\d*)\\n\"\n",
    "    r\"Prize: X=(?P<b_0>\\d*), Y=(?P<b_1>\\d*)\",\n",
    "    input,\n",
    ")\n",
    "data"
   ]
  },
  {
   "cell_type": "code",
   "execution_count": 5,
   "metadata": {},
   "outputs": [
    {
     "name": "stdout",
     "output_type": "stream",
     "text": [
      "[[[94 22]\n",
      "  [34 67]]\n",
      "\n",
      " [[26 67]\n",
      "  [66 21]]\n",
      "\n",
      " [[17 84]\n",
      "  [86 37]]\n",
      "\n",
      " [[69 27]\n",
      "  [23 71]]]\n"
     ]
    }
   ],
   "source": [
    "equations = np.array(data, dtype=np.int64).reshape((-1, 3, 2))\n",
    "A = np.array([a.T for a in equations[:, :2]])\n",
    "b = equations[:, 2]\n",
    "print(A)"
   ]
  },
  {
   "cell_type": "code",
   "execution_count": 6,
   "metadata": {},
   "outputs": [
    {
     "name": "stdout",
     "output_type": "stream",
     "text": [
      "[[ 8400  5400]\n",
      " [12748 12176]\n",
      " [ 7870  6450]\n",
      " [18641 10279]]\n"
     ]
    }
   ],
   "source": [
    "print(b)"
   ]
  },
  {
   "cell_type": "code",
   "execution_count": 7,
   "metadata": {},
   "outputs": [
    {
     "data": {
      "text/plain": [
       "480"
      ]
     },
     "execution_count": 7,
     "metadata": {},
     "output_type": "execute_result"
    }
   ],
   "source": [
    "# Solution 1\n",
    "X = np.linalg.solve(A, b).round().astype(np.int64)\n",
    "dot_product = [A_i @ X_i for X_i, A_i in zip(X, A)]\n",
    "is_valid = np.isclose(dot_product, b).all(axis=1)\n",
    "is_under_100 = (X <= 100).all(axis=1)\n",
    "\n",
    "button_presses = X[is_valid & is_under_100]\n",
    "\n",
    "np.sum(button_presses * cost)"
   ]
  },
  {
   "cell_type": "code",
   "execution_count": 8,
   "metadata": {},
   "outputs": [
    {
     "data": {
      "text/plain": [
       "875318608908"
      ]
     },
     "execution_count": 8,
     "metadata": {},
     "output_type": "execute_result"
    }
   ],
   "source": [
    "# Solution 2\n",
    "ROUNDING_ERROR = 10000000000000\n",
    "X = np.linalg.solve(A, b + ROUNDING_ERROR).round().astype(np.int64)\n",
    "\n",
    "is_valid = np.isclose([A_i @ X_i - ROUNDING_ERROR for A_i, X_i in zip(A, X)], b).all(\n",
    "    axis=1\n",
    ")\n",
    "\n",
    "button_presses = X[is_valid]\n",
    "\n",
    "np.sum(button_presses * cost)"
   ]
  }
 ],
 "metadata": {
  "kernelspec": {
   "display_name": "analysis",
   "language": "python",
   "name": "python3"
  },
  "language_info": {
   "codemirror_mode": {
    "name": "ipython",
    "version": 3
   },
   "file_extension": ".py",
   "mimetype": "text/x-python",
   "name": "python",
   "nbconvert_exporter": "python",
   "pygments_lexer": "ipython3",
   "version": "3.12.1"
  }
 },
 "nbformat": 4,
 "nbformat_minor": 2
}

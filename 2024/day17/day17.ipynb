{
 "cells": [
  {
   "cell_type": "markdown",
   "metadata": {},
   "source": [
    "# Day 17"
   ]
  },
  {
   "cell_type": "code",
   "execution_count": 1,
   "metadata": {},
   "outputs": [],
   "source": [
    "from pathlib import Path\n",
    "import re"
   ]
  },
  {
   "cell_type": "code",
   "execution_count": 2,
   "metadata": {},
   "outputs": [
    {
     "name": "stdout",
     "output_type": "stream",
     "text": [
      "Register A: 729\n",
      "Register B: 0\n",
      "Register C: 0\n",
      "\n",
      "Program: 0,1,5,4,3,0\n",
      "\n"
     ]
    }
   ],
   "source": [
    "data_path = \"example.txt\"\n",
    "data = Path(data_path).read_text()\n",
    "print(data)"
   ]
  },
  {
   "cell_type": "code",
   "execution_count": 3,
   "metadata": {},
   "outputs": [
    {
     "data": {
      "text/plain": [
       "([729, 0, 0], [0, 1, 5, 4, 3, 0])"
      ]
     },
     "execution_count": 3,
     "metadata": {},
     "output_type": "execute_result"
    }
   ],
   "source": [
    "register_pattern = r\"Register [ABC]: (\\d*)\\n\"\n",
    "program_pattern = r\"Program: ([\\d,]*)\\n\"\n",
    "\n",
    "registers = [int(value) for value in re.findall(register_pattern, data)]\n",
    "program = [\n",
    "    int(instruction) for instruction in re.findall(program_pattern, data)[0].split(\",\")\n",
    "]\n",
    "\n",
    "registers, program"
   ]
  },
  {
   "cell_type": "code",
   "execution_count": 4,
   "metadata": {},
   "outputs": [],
   "source": [
    "POINTER_INCREMENT = 2\n",
    "\n",
    "A = 0\n",
    "B = 1\n",
    "C = 2\n",
    "\n",
    "COMBO_OPERANDS = [\n",
    "    lambda: 0,\n",
    "    lambda: 1,\n",
    "    lambda: 2,\n",
    "    lambda: 3,\n",
    "    lambda: registers[A],\n",
    "    lambda: registers[B],\n",
    "    lambda: registers[C],\n",
    "]\n",
    "\n",
    "\n",
    "def adv(literal_operand: int) -> None:\n",
    "    numerator = registers[A]\n",
    "    denominator = 2 ** COMBO_OPERANDS[literal_operand]()\n",
    "    registers[A] = int(numerator / denominator)\n",
    "\n",
    "\n",
    "def blx(literal_operand: int) -> None:\n",
    "    registers[B] = registers[B] ^ literal_operand\n",
    "\n",
    "\n",
    "def bst(literal_operand: int) -> None:\n",
    "    registers[B] = COMBO_OPERANDS[literal_operand]() % 8\n",
    "\n",
    "\n",
    "def jnz(literal_operand: int) -> None:\n",
    "    if registers[A] == 0:\n",
    "        return\n",
    "    global instruction_pointer\n",
    "    instruction_pointer = literal_operand - POINTER_INCREMENT\n",
    "\n",
    "\n",
    "def bxc(literal_operand: int) -> None:\n",
    "    registers[B] = registers[B] ^ registers[C]\n",
    "\n",
    "\n",
    "def out(literal_operand: int) -> None:\n",
    "    output.append(COMBO_OPERANDS[literal_operand]() % 8)\n",
    "\n",
    "\n",
    "def bdv(literal_operand: int) -> None:\n",
    "    numerator = registers[A]\n",
    "    denominator = 2 ** COMBO_OPERANDS[literal_operand]()\n",
    "    registers[B] = int(numerator / denominator)\n",
    "\n",
    "\n",
    "def cdv(literal_operand: int) -> None:\n",
    "    numerator = registers[A]\n",
    "    denominator = 2 ** COMBO_OPERANDS[literal_operand]()\n",
    "    registers[C] = int(numerator / denominator)\n",
    "\n",
    "\n",
    "OPCODES = [adv, blx, bst, jnz, bxc, out, bdv, cdv]"
   ]
  },
  {
   "cell_type": "markdown",
   "metadata": {},
   "source": [
    "## Part I"
   ]
  },
  {
   "cell_type": "code",
   "execution_count": 5,
   "metadata": {},
   "outputs": [
    {
     "name": "stdout",
     "output_type": "stream",
     "text": [
      "4,6,3,5,6,3,5,2,1,0\n"
     ]
    }
   ],
   "source": [
    "len_program = len(program)\n",
    "output = []\n",
    "instruction_pointer = 0\n",
    "\n",
    "\n",
    "while instruction_pointer < len_program:\n",
    "    opcode = program[instruction_pointer]\n",
    "    literal_operand = program[instruction_pointer + 1]\n",
    "    operation = OPCODES[opcode](literal_operand)\n",
    "    instruction_pointer += POINTER_INCREMENT\n",
    "\n",
    "print(\",\".join([str(value) for value in output]))"
   ]
  }
 ],
 "metadata": {
  "kernelspec": {
   "display_name": "analysis",
   "language": "python",
   "name": "python3"
  },
  "language_info": {
   "codemirror_mode": {
    "name": "ipython",
    "version": 3
   },
   "file_extension": ".py",
   "mimetype": "text/x-python",
   "name": "python",
   "nbconvert_exporter": "python",
   "pygments_lexer": "ipython3",
   "version": "3.12.1"
  }
 },
 "nbformat": 4,
 "nbformat_minor": 2
}

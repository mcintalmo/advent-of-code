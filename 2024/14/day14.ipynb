{
 "cells": [
  {
   "cell_type": "code",
   "execution_count": 1,
   "metadata": {},
   "outputs": [],
   "source": [
    "from pathlib import Path\n",
    "import re\n",
    "\n",
    "import numpy as np"
   ]
  },
  {
   "cell_type": "code",
   "execution_count": 2,
   "metadata": {},
   "outputs": [
    {
     "name": "stdout",
     "output_type": "stream",
     "text": [
      "p=0,4 v=3,-3\n",
      "p=6,3 v=-1,-3\n",
      "p=10,3 v=-1,2\n",
      "p=2,0 v=2,-1\n",
      "p=0,0 v=1,3\n",
      "p=3,0 v=-2,-2\n",
      "p=7,6 v=-1,-3\n",
      "p=3,0 v=-1,-2\n",
      "p=9,3 v=2,3\n",
      "p=7,3 v=-1,2\n",
      "p=2,4 v=2,-3\n",
      "p=9,5 v=-3,-3\n",
      "\n"
     ]
    }
   ],
   "source": [
    "input = Path(\"example.txt\").read_text()\n",
    "print(input)"
   ]
  },
  {
   "cell_type": "code",
   "execution_count": 3,
   "metadata": {},
   "outputs": [],
   "source": [
    "# Example\n",
    "dimensions = np.array([11, 7])\n",
    "# Input\n",
    "# dimensions = np.array([101, 103])"
   ]
  },
  {
   "cell_type": "code",
   "execution_count": 4,
   "metadata": {},
   "outputs": [
    {
     "data": {
      "text/plain": [
       "array([[ 0,  4,  3, -3],\n",
       "       [ 6,  3, -1, -3],\n",
       "       [10,  3, -1,  2],\n",
       "       [ 2,  0,  2, -1],\n",
       "       [ 0,  0,  1,  3],\n",
       "       [ 3,  0, -2, -2],\n",
       "       [ 7,  6, -1, -3],\n",
       "       [ 3,  0, -1, -2],\n",
       "       [ 9,  3,  2,  3],\n",
       "       [ 7,  3, -1,  2],\n",
       "       [ 2,  4,  2, -3],\n",
       "       [ 9,  5, -3, -3]])"
      ]
     },
     "execution_count": 4,
     "metadata": {},
     "output_type": "execute_result"
    }
   ],
   "source": [
    "pattern = r\"p=(\\d+),(\\d+) v=(-?\\d+),(-?\\d+)\"\n",
    "data = np.array(re.findall(pattern, input), dtype=np.int32)\n",
    "data"
   ]
  },
  {
   "cell_type": "code",
   "execution_count": 5,
   "metadata": {},
   "outputs": [
    {
     "data": {
      "text/plain": [
       "(12, 4)"
      ]
     },
     "execution_count": 5,
     "metadata": {},
     "output_type": "execute_result"
    }
   ],
   "source": [
    "data.shape"
   ]
  },
  {
   "cell_type": "code",
   "execution_count": 6,
   "metadata": {},
   "outputs": [
    {
     "data": {
      "text/plain": [
       "array([[ 0,  4],\n",
       "       [ 6,  3],\n",
       "       [10,  3],\n",
       "       [ 2,  0],\n",
       "       [ 0,  0],\n",
       "       [ 3,  0],\n",
       "       [ 7,  6],\n",
       "       [ 3,  0],\n",
       "       [ 9,  3],\n",
       "       [ 7,  3],\n",
       "       [ 2,  4],\n",
       "       [ 9,  5]])"
      ]
     },
     "execution_count": 6,
     "metadata": {},
     "output_type": "execute_result"
    }
   ],
   "source": [
    "initial_position = data[:, :2]\n",
    "initial_position"
   ]
  },
  {
   "cell_type": "code",
   "execution_count": 7,
   "metadata": {},
   "outputs": [
    {
     "data": {
      "text/plain": [
       "array([[ 3, -3],\n",
       "       [-1, -3],\n",
       "       [-1,  2],\n",
       "       [ 2, -1],\n",
       "       [ 1,  3],\n",
       "       [-2, -2],\n",
       "       [-1, -3],\n",
       "       [-1, -2],\n",
       "       [ 2,  3],\n",
       "       [-1,  2],\n",
       "       [ 2, -3],\n",
       "       [-3, -3]])"
      ]
     },
     "execution_count": 7,
     "metadata": {},
     "output_type": "execute_result"
    }
   ],
   "source": [
    "velocity = data[:, 2:]\n",
    "velocity"
   ]
  },
  {
   "cell_type": "code",
   "execution_count": 8,
   "metadata": {},
   "outputs": [
    {
     "data": {
      "text/plain": [
       "array([[3, 5],\n",
       "       [5, 4],\n",
       "       [9, 0],\n",
       "       [4, 5],\n",
       "       [1, 6],\n",
       "       [1, 3],\n",
       "       [6, 0],\n",
       "       [2, 3],\n",
       "       [0, 2],\n",
       "       [6, 0],\n",
       "       [4, 5],\n",
       "       [6, 6]])"
      ]
     },
     "execution_count": 8,
     "metadata": {},
     "output_type": "execute_result"
    }
   ],
   "source": [
    "time = 100\n",
    "final_position = initial_position + velocity * time\n",
    "final_position[:, 0] %= dimensions[0]\n",
    "final_position[:, 1] %= dimensions[1]\n",
    "final_position"
   ]
  },
  {
   "cell_type": "code",
   "execution_count": 9,
   "metadata": {},
   "outputs": [
    {
     "name": "stdout",
     "output_type": "stream",
     "text": [
      "[5 3]\n"
     ]
    }
   ],
   "source": [
    "median = dimensions // 2\n",
    "print(median)"
   ]
  },
  {
   "cell_type": "code",
   "execution_count": 10,
   "metadata": {},
   "outputs": [
    {
     "data": {
      "text/plain": [
       "12"
      ]
     },
     "execution_count": 10,
     "metadata": {},
     "output_type": "execute_result"
    }
   ],
   "source": [
    "quadrant_i = np.all(final_position < median, axis=1)\n",
    "quadrant_ii = (final_position[:, 0] > median[0]) & (final_position[:, 1] < median[1])\n",
    "quadrant_iii = (final_position[:, 0] < median[0]) & (final_position[:, 1] > median[1])\n",
    "quadrant_iv = np.all(final_position > median, axis=1)\n",
    "\n",
    "np.prod(\n",
    "    [\n",
    "        np.sum(quadrant)\n",
    "        for quadrant in [quadrant_i, quadrant_ii, quadrant_iii, quadrant_iv]\n",
    "    ]\n",
    ")"
   ]
  },
  {
   "cell_type": "code",
   "execution_count": 11,
   "metadata": {},
   "outputs": [
    {
     "name": "stdout",
     "output_type": "stream",
     "text": [
      "12 4.331597222222222\n"
     ]
    }
   ],
   "source": [
    "# Solution 1\n",
    "min_var = np.infty\n",
    "min_time = 0\n",
    "for time in range(10000):\n",
    "    final_position = initial_position + velocity * time\n",
    "    final_position %= dimensions\n",
    "    if np.var(final_position) < min_var:\n",
    "        min_var = np.var(final_position)\n",
    "        min_time = time\n",
    "print(min_time, min_var)"
   ]
  },
  {
   "cell_type": "code",
   "execution_count": 12,
   "metadata": {},
   "outputs": [
    {
     "name": "stdout",
     "output_type": "stream",
     "text": [
      "___________\n",
      "|           |\n",
      "| X         |\n",
      "|    XX     |\n",
      "|   XX      |\n",
      "|XXX   X    |\n",
      "|      X    |\n",
      "|      X  X |\n",
      "-----------\n"
     ]
    }
   ],
   "source": [
    "np.set_printoptions(linewidth=300, edgeitems=100)\n",
    "\n",
    "final_position = initial_position + velocity * min_time\n",
    "final_position %= dimensions\n",
    "\n",
    "canvas = np.full(dimensions, fill_value=\" \")\n",
    "for position in final_position:\n",
    "    canvas[tuple(position)] = \"X\"\n",
    "print(\"_\" * dimensions[0])\n",
    "for row in canvas.T:\n",
    "    print(\"|\" + \"\".join(row) + \"|\")\n",
    "print(\"-\" * dimensions[0])"
   ]
  },
  {
   "cell_type": "code",
   "execution_count": null,
   "metadata": {},
   "outputs": [],
   "source": []
  }
 ],
 "metadata": {
  "kernelspec": {
   "display_name": "analysis",
   "language": "python",
   "name": "python3"
  },
  "language_info": {
   "codemirror_mode": {
    "name": "ipython",
    "version": 3
   },
   "file_extension": ".py",
   "mimetype": "text/x-python",
   "name": "python",
   "nbconvert_exporter": "python",
   "pygments_lexer": "ipython3",
   "version": "3.12.1"
  }
 },
 "nbformat": 4,
 "nbformat_minor": 2
}

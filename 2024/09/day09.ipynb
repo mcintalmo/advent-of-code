{
 "cells": [
  {
   "cell_type": "code",
   "execution_count": 1,
   "metadata": {},
   "outputs": [],
   "source": [
    "from pathlib import Path\n",
    "\n",
    "import numpy as np\n",
    "import pandas as pd"
   ]
  },
  {
   "cell_type": "code",
   "execution_count": 2,
   "metadata": {},
   "outputs": [
    {
     "name": "stdout",
     "output_type": "stream",
     "text": [
      "2333133121414131402\n",
      "\n"
     ]
    }
   ],
   "source": [
    "input = Path(\"example.txt\").read_text()\n",
    "print(input)"
   ]
  },
  {
   "cell_type": "code",
   "execution_count": 3,
   "metadata": {},
   "outputs": [
    {
     "data": {
      "text/plain": [
       "0        0\n",
       "1        0\n",
       "2     <NA>\n",
       "3     <NA>\n",
       "4     <NA>\n",
       "5        1\n",
       "6        1\n",
       "7        1\n",
       "8     <NA>\n",
       "9     <NA>\n",
       "10    <NA>\n",
       "11       2\n",
       "12    <NA>\n",
       "13    <NA>\n",
       "14    <NA>\n",
       "15       3\n",
       "16       3\n",
       "17       3\n",
       "18    <NA>\n",
       "19       4\n",
       "20       4\n",
       "21    <NA>\n",
       "22       5\n",
       "23       5\n",
       "24       5\n",
       "25       5\n",
       "26    <NA>\n",
       "27       6\n",
       "28       6\n",
       "29       6\n",
       "30       6\n",
       "31    <NA>\n",
       "32       7\n",
       "33       7\n",
       "34       7\n",
       "35    <NA>\n",
       "36       8\n",
       "37       8\n",
       "38       8\n",
       "39       8\n",
       "40       9\n",
       "41       9\n",
       "dtype: Int16"
      ]
     },
     "execution_count": 3,
     "metadata": {},
     "output_type": "execute_result"
    }
   ],
   "source": [
    "# Solution 1\n",
    "fill = True\n",
    "disk_map = []\n",
    "id = 0\n",
    "for size in input[:-1]:\n",
    "    disk_map += [str(id) if fill else pd.NA] * int(size)\n",
    "    id = id + (1 if fill else 0)\n",
    "    fill = not fill\n",
    "disk_map = pd.Series(disk_map, dtype=\"Int16\")\n",
    "disk_map"
   ]
  },
  {
   "cell_type": "code",
   "execution_count": 4,
   "metadata": {},
   "outputs": [
    {
     "name": "stdout",
     "output_type": "stream",
     "text": [
      "12\n"
     ]
    }
   ],
   "source": [
    "i = 0\n",
    "free_index = disk_map[disk_map.isna()].index.min()\n",
    "file_index = disk_map[disk_map.notna()].index.max()\n",
    "while free_index < file_index:\n",
    "    file = disk_map[file_index]\n",
    "    disk_map[file_index] = pd.NA\n",
    "    disk_map[free_index] = file\n",
    "    free_index = disk_map[disk_map.isna()].index.min()\n",
    "    file_index = disk_map[disk_map.notna()].index.max()\n",
    "    i += 1\n",
    "    if i % 1000 == 0:\n",
    "        print(free_index, file_index)\n",
    "    if i > 100000:\n",
    "        break\n",
    "print(i)"
   ]
  },
  {
   "cell_type": "code",
   "execution_count": 5,
   "metadata": {},
   "outputs": [
    {
     "name": "stdout",
     "output_type": "stream",
     "text": [
      "0        0\n",
      "1        0\n",
      "2        9\n",
      "3        9\n",
      "4        8\n",
      "5        1\n",
      "6        1\n",
      "7        1\n",
      "8        8\n",
      "9        8\n",
      "10       8\n",
      "11       2\n",
      "12       7\n",
      "13       7\n",
      "14       7\n",
      "15       3\n",
      "16       3\n",
      "17       3\n",
      "18       6\n",
      "19       4\n",
      "20       4\n",
      "21       6\n",
      "22       5\n",
      "23       5\n",
      "24       5\n",
      "25       5\n",
      "26       6\n",
      "27       6\n",
      "28    <NA>\n",
      "29    <NA>\n",
      "30    <NA>\n",
      "31    <NA>\n",
      "32    <NA>\n",
      "33    <NA>\n",
      "34    <NA>\n",
      "35    <NA>\n",
      "36    <NA>\n",
      "37    <NA>\n",
      "38    <NA>\n",
      "39    <NA>\n",
      "40    <NA>\n",
      "41    <NA>\n",
      "dtype: Int16\n"
     ]
    }
   ],
   "source": [
    "print(disk_map)"
   ]
  },
  {
   "cell_type": "code",
   "execution_count": 6,
   "metadata": {},
   "outputs": [
    {
     "data": {
      "text/plain": [
       "1928"
      ]
     },
     "execution_count": 6,
     "metadata": {},
     "output_type": "execute_result"
    }
   ],
   "source": [
    "(disk_map[disk_map > 0] * disk_map[disk_map > 0].index).sum()"
   ]
  },
  {
   "cell_type": "code",
   "execution_count": 7,
   "metadata": {},
   "outputs": [],
   "source": [
    "# Solution 2"
   ]
  },
  {
   "cell_type": "code",
   "execution_count": 8,
   "metadata": {},
   "outputs": [],
   "source": [
    "from dataclasses import dataclass\n",
    "\n",
    "\n",
    "@dataclass\n",
    "class Block:\n",
    "    start: int\n",
    "    stop: int\n",
    "    index: int\n",
    "\n",
    "    @property\n",
    "    def size(self) -> int:\n",
    "        return self.stop - self.start\n",
    "\n",
    "    @property\n",
    "    def is_fill(self) -> bool:\n",
    "        return self.index != -1\n",
    "\n",
    "    @property\n",
    "    def is_free(self) -> bool:\n",
    "        return self.index == -1"
   ]
  },
  {
   "cell_type": "code",
   "execution_count": 9,
   "metadata": {},
   "outputs": [
    {
     "data": {
      "text/plain": [
       "[Block(start=0, stop=2, index=0),\n",
       " Block(start=2, stop=5, index=-1),\n",
       " Block(start=5, stop=8, index=1),\n",
       " Block(start=8, stop=11, index=-1),\n",
       " Block(start=11, stop=12, index=2),\n",
       " Block(start=12, stop=15, index=-1),\n",
       " Block(start=15, stop=18, index=3),\n",
       " Block(start=18, stop=19, index=-1),\n",
       " Block(start=19, stop=21, index=4),\n",
       " Block(start=21, stop=22, index=-1),\n",
       " Block(start=22, stop=26, index=5),\n",
       " Block(start=26, stop=27, index=-1),\n",
       " Block(start=27, stop=31, index=6),\n",
       " Block(start=31, stop=32, index=-1),\n",
       " Block(start=32, stop=35, index=7),\n",
       " Block(start=35, stop=36, index=-1),\n",
       " Block(start=36, stop=40, index=8),\n",
       " Block(start=40, stop=40, index=-1),\n",
       " Block(start=40, stop=42, index=9)]"
      ]
     },
     "execution_count": 9,
     "metadata": {},
     "output_type": "execute_result"
    }
   ],
   "source": [
    "free = False\n",
    "index = 0\n",
    "start = 0\n",
    "blocks = []\n",
    "for size in input.strip():\n",
    "    stop = start + int(size)\n",
    "    block = Block(\n",
    "        start=start,\n",
    "        stop=stop,\n",
    "        index=-1 if free else index,\n",
    "    )\n",
    "    blocks.append(block)\n",
    "    start = stop\n",
    "    if free:\n",
    "        index += 1\n",
    "    free = not free\n",
    "\n",
    "blocks"
   ]
  },
  {
   "cell_type": "code",
   "execution_count": 10,
   "metadata": {},
   "outputs": [
    {
     "name": "stdout",
     "output_type": "stream",
     "text": [
      "0\n"
     ]
    },
    {
     "data": {
      "text/plain": [
       "[Block(start=0, stop=2, index=0),\n",
       " Block(start=2, stop=4, index=9),\n",
       " Block(start=4, stop=5, index=2),\n",
       " Block(start=5, stop=8, index=1),\n",
       " Block(start=8, stop=11, index=7),\n",
       " Block(start=12, stop=14, index=4),\n",
       " Block(start=14, stop=15, index=-1),\n",
       " Block(start=15, stop=18, index=3),\n",
       " Block(start=18, stop=19, index=-1),\n",
       " Block(start=21, stop=22, index=-1),\n",
       " Block(start=22, stop=26, index=5),\n",
       " Block(start=26, stop=27, index=-1),\n",
       " Block(start=27, stop=31, index=6),\n",
       " Block(start=31, stop=32, index=-1),\n",
       " Block(start=35, stop=36, index=-1),\n",
       " Block(start=36, stop=40, index=8),\n",
       " Block(start=40, stop=40, index=-1)]"
      ]
     },
     "execution_count": 10,
     "metadata": {},
     "output_type": "execute_result"
    }
   ],
   "source": [
    "num_blocks = len(blocks)\n",
    "i = num_blocks - 1\n",
    "while i > 0:\n",
    "    j = 0\n",
    "    moved = False\n",
    "    while j < i:\n",
    "        fill_block = blocks[i]\n",
    "        free_block = blocks[j]\n",
    "        fill_block_size = fill_block.size\n",
    "        if (\n",
    "            not fill_block.is_free\n",
    "            and free_block.is_free\n",
    "            and fill_block.size <= free_block.size\n",
    "        ):\n",
    "\n",
    "            fill_block.start = free_block.start\n",
    "            fill_block.stop = fill_block.start + fill_block_size\n",
    "            free_block.start += fill_block_size\n",
    "            skip_empty = 1 if (free_block.size == 0) else 0\n",
    "            blocks = (\n",
    "                blocks[:j] + [fill_block] + blocks[j + skip_empty : i] + blocks[i + 1 :]\n",
    "            )\n",
    "\n",
    "            moved = True\n",
    "            break\n",
    "        j += 1\n",
    "    if not moved:\n",
    "        i -= 1\n",
    "        if i % 1000 == 0:\n",
    "            print(i)\n",
    "blocks"
   ]
  },
  {
   "cell_type": "code",
   "execution_count": 11,
   "metadata": {},
   "outputs": [
    {
     "data": {
      "text/html": [
       "<div>\n",
       "<style scoped>\n",
       "    .dataframe tbody tr th:only-of-type {\n",
       "        vertical-align: middle;\n",
       "    }\n",
       "\n",
       "    .dataframe tbody tr th {\n",
       "        vertical-align: top;\n",
       "    }\n",
       "\n",
       "    .dataframe thead th {\n",
       "        text-align: right;\n",
       "    }\n",
       "</style>\n",
       "<table border=\"1\" class=\"dataframe\">\n",
       "  <thead>\n",
       "    <tr style=\"text-align: right;\">\n",
       "      <th></th>\n",
       "      <th>start</th>\n",
       "      <th>stop</th>\n",
       "      <th>index</th>\n",
       "    </tr>\n",
       "  </thead>\n",
       "  <tbody>\n",
       "    <tr>\n",
       "      <th>0</th>\n",
       "      <td>0</td>\n",
       "      <td>2</td>\n",
       "      <td>0</td>\n",
       "    </tr>\n",
       "    <tr>\n",
       "      <th>1</th>\n",
       "      <td>2</td>\n",
       "      <td>4</td>\n",
       "      <td>9</td>\n",
       "    </tr>\n",
       "    <tr>\n",
       "      <th>2</th>\n",
       "      <td>4</td>\n",
       "      <td>5</td>\n",
       "      <td>2</td>\n",
       "    </tr>\n",
       "    <tr>\n",
       "      <th>3</th>\n",
       "      <td>5</td>\n",
       "      <td>8</td>\n",
       "      <td>1</td>\n",
       "    </tr>\n",
       "    <tr>\n",
       "      <th>4</th>\n",
       "      <td>8</td>\n",
       "      <td>11</td>\n",
       "      <td>7</td>\n",
       "    </tr>\n",
       "    <tr>\n",
       "      <th>5</th>\n",
       "      <td>12</td>\n",
       "      <td>14</td>\n",
       "      <td>4</td>\n",
       "    </tr>\n",
       "    <tr>\n",
       "      <th>7</th>\n",
       "      <td>15</td>\n",
       "      <td>18</td>\n",
       "      <td>3</td>\n",
       "    </tr>\n",
       "    <tr>\n",
       "      <th>10</th>\n",
       "      <td>22</td>\n",
       "      <td>26</td>\n",
       "      <td>5</td>\n",
       "    </tr>\n",
       "    <tr>\n",
       "      <th>12</th>\n",
       "      <td>27</td>\n",
       "      <td>31</td>\n",
       "      <td>6</td>\n",
       "    </tr>\n",
       "    <tr>\n",
       "      <th>15</th>\n",
       "      <td>36</td>\n",
       "      <td>40</td>\n",
       "      <td>8</td>\n",
       "    </tr>\n",
       "  </tbody>\n",
       "</table>\n",
       "</div>"
      ],
      "text/plain": [
       "    start  stop  index\n",
       "0       0     2      0\n",
       "1       2     4      9\n",
       "2       4     5      2\n",
       "3       5     8      1\n",
       "4       8    11      7\n",
       "5      12    14      4\n",
       "7      15    18      3\n",
       "10     22    26      5\n",
       "12     27    31      6\n",
       "15     36    40      8"
      ]
     },
     "execution_count": 11,
     "metadata": {},
     "output_type": "execute_result"
    }
   ],
   "source": [
    "df = pd.DataFrame(blocks)\n",
    "df = df[df[\"index\"] != -1].sort_values(\"start\")\n",
    "df"
   ]
  },
  {
   "cell_type": "code",
   "execution_count": 12,
   "metadata": {},
   "outputs": [
    {
     "data": {
      "text/plain": [
       "2858"
      ]
     },
     "execution_count": 12,
     "metadata": {},
     "output_type": "execute_result"
    }
   ],
   "source": [
    "def score(x) -> int:\n",
    "    return np.sum(np.arange(x[\"start\"], x[\"stop\"]) * x[\"index\"])\n",
    "\n",
    "\n",
    "df.apply(score, axis=\"columns\").sum()"
   ]
  }
 ],
 "metadata": {
  "kernelspec": {
   "display_name": "analysis",
   "language": "python",
   "name": "python3"
  },
  "language_info": {
   "codemirror_mode": {
    "name": "ipython",
    "version": 3
   },
   "file_extension": ".py",
   "mimetype": "text/x-python",
   "name": "python",
   "nbconvert_exporter": "python",
   "pygments_lexer": "ipython3",
   "version": "3.12.1"
  }
 },
 "nbformat": 4,
 "nbformat_minor": 2
}

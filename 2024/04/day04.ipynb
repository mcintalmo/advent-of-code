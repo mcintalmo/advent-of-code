{
 "cells": [
  {
   "cell_type": "code",
   "execution_count": 1,
   "metadata": {},
   "outputs": [],
   "source": [
    "from pathlib import Path\n",
    "import numpy as np"
   ]
  },
  {
   "cell_type": "code",
   "execution_count": 2,
   "metadata": {},
   "outputs": [
    {
     "name": "stdout",
     "output_type": "stream",
     "text": [
      "MMMSXXMASM\n",
      "MSAMXMSMSA\n",
      "AMXSXMAAMM\n",
      "MSAMASMSMX\n",
      "XMASAMXAMM\n",
      "XXAMMXXAMA\n",
      "SMSMSASXSS\n",
      "SAXAMASAAA\n",
      "MAMMMXMMMM\n",
      "MXMXAXMASX\n",
      "\n"
     ]
    }
   ],
   "source": [
    "input = Path(\"example.txt\").read_text()\n",
    "print(input)"
   ]
  },
  {
   "cell_type": "code",
   "execution_count": 3,
   "metadata": {},
   "outputs": [
    {
     "data": {
      "text/plain": [
       "array([[2, 2, 2, 8, 1, 1, 2, 4, 8, 2],\n",
       "       [2, 8, 4, 2, 1, 2, 8, 2, 8, 4],\n",
       "       [4, 2, 1, 8, 1, 2, 4, 4, 2, 2],\n",
       "       [2, 8, 4, 2, 4, 8, 2, 8, 2, 1],\n",
       "       [1, 2, 4, 8, 4, 2, 1, 4, 2, 2],\n",
       "       [1, 1, 4, 2, 2, 1, 1, 4, 2, 4],\n",
       "       [8, 2, 8, 2, 8, 4, 8, 1, 8, 8],\n",
       "       [8, 4, 1, 4, 2, 4, 8, 4, 4, 4],\n",
       "       [2, 4, 2, 2, 2, 1, 2, 2, 2, 2],\n",
       "       [2, 1, 2, 1, 4, 1, 2, 4, 8, 1]])"
      ]
     },
     "execution_count": 3,
     "metadata": {},
     "output_type": "execute_result"
    }
   ],
   "source": [
    "lines = input.splitlines()\n",
    "letter_map = {\"X\": 1, \"M\": 2, \"A\": 4, \"S\": 8}\n",
    "X = np.array([[letter_map[letter] for letter in line] for line in lines])\n",
    "X"
   ]
  },
  {
   "cell_type": "code",
   "execution_count": 4,
   "metadata": {},
   "outputs": [
    {
     "data": {
      "text/plain": [
       "array([[0, 0, 0, 0, 0, 0, 0, 0, 0, 0, 0, 0, 0, 0, 0, 0, 0, 0],\n",
       "       [0, 0, 0, 0, 0, 0, 0, 0, 0, 0, 0, 0, 0, 0, 0, 0, 0, 0],\n",
       "       [0, 0, 0, 0, 0, 0, 0, 0, 0, 0, 0, 0, 0, 0, 0, 0, 0, 0],\n",
       "       [0, 0, 0, 0, 0, 0, 0, 0, 0, 0, 0, 0, 0, 0, 0, 0, 0, 0],\n",
       "       [0, 0, 0, 0, 2, 2, 2, 8, 1, 1, 2, 4, 8, 2, 0, 0, 0, 0],\n",
       "       [0, 0, 0, 0, 2, 8, 4, 2, 1, 2, 8, 2, 8, 4, 0, 0, 0, 0],\n",
       "       [0, 0, 0, 0, 4, 2, 1, 8, 1, 2, 4, 4, 2, 2, 0, 0, 0, 0],\n",
       "       [0, 0, 0, 0, 2, 8, 4, 2, 4, 8, 2, 8, 2, 1, 0, 0, 0, 0],\n",
       "       [0, 0, 0, 0, 1, 2, 4, 8, 4, 2, 1, 4, 2, 2, 0, 0, 0, 0],\n",
       "       [0, 0, 0, 0, 1, 1, 4, 2, 2, 1, 1, 4, 2, 4, 0, 0, 0, 0],\n",
       "       [0, 0, 0, 0, 8, 2, 8, 2, 8, 4, 8, 1, 8, 8, 0, 0, 0, 0],\n",
       "       [0, 0, 0, 0, 8, 4, 1, 4, 2, 4, 8, 4, 4, 4, 0, 0, 0, 0],\n",
       "       [0, 0, 0, 0, 2, 4, 2, 2, 2, 1, 2, 2, 2, 2, 0, 0, 0, 0],\n",
       "       [0, 0, 0, 0, 2, 1, 2, 1, 4, 1, 2, 4, 8, 1, 0, 0, 0, 0],\n",
       "       [0, 0, 0, 0, 0, 0, 0, 0, 0, 0, 0, 0, 0, 0, 0, 0, 0, 0],\n",
       "       [0, 0, 0, 0, 0, 0, 0, 0, 0, 0, 0, 0, 0, 0, 0, 0, 0, 0],\n",
       "       [0, 0, 0, 0, 0, 0, 0, 0, 0, 0, 0, 0, 0, 0, 0, 0, 0, 0],\n",
       "       [0, 0, 0, 0, 0, 0, 0, 0, 0, 0, 0, 0, 0, 0, 0, 0, 0, 0]])"
      ]
     },
     "execution_count": 4,
     "metadata": {},
     "output_type": "execute_result"
    }
   ],
   "source": [
    "X_pad = np.pad(X, 4)\n",
    "X_pad"
   ]
  },
  {
   "cell_type": "code",
   "execution_count": 5,
   "metadata": {},
   "outputs": [
    {
     "data": {
      "text/plain": [
       "18"
      ]
     },
     "execution_count": 5,
     "metadata": {},
     "output_type": "execute_result"
    }
   ],
   "source": [
    "# Solution 1\n",
    "total = 0\n",
    "for direction in [(1, 0), (1, -1), (0, -1), (-1, -1), (-1, 0), (-1, 1), (0, 1), (1, 1)]:\n",
    "    xmas = np.where(X_pad == 2**0, X_pad, 0)\n",
    "    for i in range(1, 4):\n",
    "        X_shift = np.where(X_pad == 2**i, X_pad, 0)\n",
    "        X_shift = np.roll(X_shift, i * direction[0], axis=0)\n",
    "        X_shift = np.roll(X_shift, i * direction[1], axis=1)\n",
    "        xmas += X_shift\n",
    "    total += (xmas == 15).sum()\n",
    "total"
   ]
  },
  {
   "cell_type": "code",
   "execution_count": 6,
   "metadata": {},
   "outputs": [
    {
     "name": "stdout",
     "output_type": "stream",
     "text": [
      "9\n"
     ]
    }
   ],
   "source": [
    "# Solution 2\n",
    "letter_map = {\"X\": 1, \"M\": 2, \"A\": 3, \"S\": 5}\n",
    "X = np.array([[letter_map[letter] for letter in line] for line in lines])\n",
    "X_pad = np.pad(X, 1, constant_values=1)\n",
    "total = 0\n",
    "\n",
    "xmas = np.where(X_pad == letter_map[\"A\"], X_pad, 1)\n",
    "for direction in (1, 1), (-1, -1), (-1, 1), (1, -1):\n",
    "    for letter in [\"S\", \"M\"]:\n",
    "        X_pre_shift = np.where(X_pad == letter_map[letter], X_pad, 1)\n",
    "\n",
    "        X_shift = np.roll(X_pre_shift, direction[0], axis=0)\n",
    "        X_shift = np.roll(X_shift, direction[1], axis=1)\n",
    "\n",
    "        check_cross = np.roll(X_pre_shift, -direction[0], axis=0)\n",
    "        check_cross = np.roll(check_cross, -direction[1], axis=1)\n",
    "\n",
    "        X_shift = np.where(X_shift != check_cross, X_shift, 1)\n",
    "\n",
    "        xmas *= X_shift\n",
    "total = (xmas == (3 * 2 * 2 * 5 * 5)).sum()\n",
    "# 2038 - too high\n",
    "# 1992 - too high\n",
    "# 1953 - too high\n",
    "# 1929 - not right\n",
    "print(total)"
   ]
  },
  {
   "cell_type": "code",
   "execution_count": 7,
   "metadata": {},
   "outputs": [
    {
     "data": {
      "text/plain": [
       "9"
      ]
     },
     "execution_count": 7,
     "metadata": {},
     "output_type": "execute_result"
    }
   ],
   "source": [
    "# Solution 2, using kernels\n",
    "x_kernel = np.array(\n",
    "    [\n",
    "        [1, 0, 1],\n",
    "        [0, 1, 0],\n",
    "        [1, 0, 1],\n",
    "    ]\n",
    ")\n",
    "kernels = np.array(\n",
    "    [\n",
    "        [\n",
    "            [2, 0, 2],\n",
    "            [0, 3, 0],\n",
    "            [5, 0, 5],\n",
    "        ],\n",
    "        [\n",
    "            [5, 0, 2],\n",
    "            [0, 3, 0],\n",
    "            [5, 0, 2],\n",
    "        ],\n",
    "        [\n",
    "            [5, 0, 5],\n",
    "            [0, 3, 0],\n",
    "            [2, 0, 2],\n",
    "        ],\n",
    "        [\n",
    "            [2, 0, 5],\n",
    "            [0, 3, 0],\n",
    "            [2, 0, 5],\n",
    "        ],\n",
    "    ]\n",
    ")\n",
    "x, y = X.shape\n",
    "total = 0\n",
    "for kernel in kernels:\n",
    "    for i in range(x - 2):\n",
    "        for j in range(y - 2):\n",
    "            X_conv = X[i : i + 3, j : j + 3] * x_kernel\n",
    "            if (X_conv == kernel).all():\n",
    "                total += 1\n",
    "total"
   ]
  }
 ],
 "metadata": {
  "kernelspec": {
   "display_name": "analysis",
   "language": "python",
   "name": "python3"
  },
  "language_info": {
   "codemirror_mode": {
    "name": "ipython",
    "version": 3
   },
   "file_extension": ".py",
   "mimetype": "text/x-python",
   "name": "python",
   "nbconvert_exporter": "python",
   "pygments_lexer": "ipython3",
   "version": "3.12.1"
  }
 },
 "nbformat": 4,
 "nbformat_minor": 2
}

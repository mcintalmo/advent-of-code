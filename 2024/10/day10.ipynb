{
 "cells": [
  {
   "cell_type": "code",
   "execution_count": 1,
   "metadata": {},
   "outputs": [],
   "source": [
    "from pathlib import Path\n",
    "\n",
    "import networkx as nx\n",
    "import numpy as np"
   ]
  },
  {
   "cell_type": "code",
   "execution_count": 2,
   "metadata": {},
   "outputs": [
    {
     "name": "stdout",
     "output_type": "stream",
     "text": [
      "89010123\n",
      "78121874\n",
      "87430965\n",
      "96549874\n",
      "45678903\n",
      "32019012\n",
      "01329801\n",
      "10456732\n",
      "\n"
     ]
    }
   ],
   "source": [
    "input = Path(\"example.txt\").read_text()\n",
    "print(input)"
   ]
  },
  {
   "cell_type": "code",
   "execution_count": 3,
   "metadata": {},
   "outputs": [
    {
     "name": "stdout",
     "output_type": "stream",
     "text": [
      "[[-2 -2 -2 -2 -2 -2 -2 -2 -2 -2]\n",
      " [-2  8  9  0  1  0  1  2  3 -2]\n",
      " [-2  7  8  1  2  1  8  7  4 -2]\n",
      " [-2  8  7  4  3  0  9  6  5 -2]\n",
      " [-2  9  6  5  4  9  8  7  4 -2]\n",
      " [-2  4  5  6  7  8  9  0  3 -2]\n",
      " [-2  3  2  0  1  9  0  1  2 -2]\n",
      " [-2  0  1  3  2  9  8  0  1 -2]\n",
      " [-2  1  0  4  5  6  7  3  2 -2]\n",
      " [-2 -2 -2 -2 -2 -2 -2 -2 -2 -2]]\n"
     ]
    }
   ],
   "source": [
    "topo = np.array([[value for value in line] for line in input.splitlines()], dtype=int)\n",
    "pad_topo = np.pad(topo, pad_width=1, constant_values=-2)\n",
    "print(pad_topo)"
   ]
  },
  {
   "cell_type": "code",
   "execution_count": 4,
   "metadata": {},
   "outputs": [],
   "source": [
    "G = nx.DiGraph()"
   ]
  },
  {
   "cell_type": "code",
   "execution_count": 5,
   "metadata": {},
   "outputs": [
    {
     "name": "stdout",
     "output_type": "stream",
     "text": [
      "Number of Nodes: 64\n",
      "Number of Edges: 73\n"
     ]
    }
   ],
   "source": [
    "for axis in [0, 1]:\n",
    "    for direction in [-1, 1]:\n",
    "        has_edge = pad_topo - np.roll(pad_topo, direction, axis) == 1\n",
    "        first_node = (\n",
    "            np.argwhere(has_edge)\n",
    "            - np.array([1 if axis == 0 else 0, 1 if axis == 1 else 0]) * direction\n",
    "        )\n",
    "        second_node = np.argwhere(has_edge)\n",
    "        for first, second in zip(first_node, second_node):\n",
    "            G.add_edge(tuple(first - 1), tuple(second - 1))\n",
    "print(\"Number of Nodes:\", len(G.nodes))\n",
    "print(\"Number of Edges:\", len(G.edges))"
   ]
  },
  {
   "cell_type": "code",
   "execution_count": 6,
   "metadata": {},
   "outputs": [],
   "source": [
    "starts = np.argwhere(topo == 0)\n",
    "ends = np.argwhere(topo == 9)"
   ]
  },
  {
   "cell_type": "code",
   "execution_count": 7,
   "metadata": {},
   "outputs": [
    {
     "data": {
      "text/plain": [
       "36"
      ]
     },
     "execution_count": 7,
     "metadata": {},
     "output_type": "execute_result"
    }
   ],
   "source": [
    "# Solution 1\n",
    "sum(\n",
    "    [\n",
    "        sum([nx.has_path(G, tuple(start), tuple(end)) for end in ends])\n",
    "        for start in starts\n",
    "    ]\n",
    ")"
   ]
  },
  {
   "cell_type": "code",
   "execution_count": 8,
   "metadata": {},
   "outputs": [
    {
     "data": {
      "text/plain": [
       "81"
      ]
     },
     "execution_count": 8,
     "metadata": {},
     "output_type": "execute_result"
    }
   ],
   "source": [
    "# Solution 2\n",
    "sum(\n",
    "    [\n",
    "        sum(\n",
    "            [\n",
    "                len(list(nx.all_simple_edge_paths(G, tuple(start), tuple(end))))\n",
    "                for end in ends\n",
    "            ]\n",
    "        )\n",
    "        for start in starts\n",
    "    ]\n",
    ")"
   ]
  }
 ],
 "metadata": {
  "kernelspec": {
   "display_name": "analysis",
   "language": "python",
   "name": "python3"
  },
  "language_info": {
   "codemirror_mode": {
    "name": "ipython",
    "version": 3
   },
   "file_extension": ".py",
   "mimetype": "text/x-python",
   "name": "python",
   "nbconvert_exporter": "python",
   "pygments_lexer": "ipython3",
   "version": "3.12.1"
  }
 },
 "nbformat": 4,
 "nbformat_minor": 2
}

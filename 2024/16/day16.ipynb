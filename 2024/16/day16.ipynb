{
 "cells": [
  {
   "cell_type": "code",
   "execution_count": 1,
   "metadata": {},
   "outputs": [],
   "source": [
    "from pathlib import Path\n",
    "from enum import Enum\n",
    "\n",
    "import networkx as nx\n",
    "import numpy as np"
   ]
  },
  {
   "cell_type": "code",
   "execution_count": 2,
   "metadata": {},
   "outputs": [
    {
     "name": "stdout",
     "output_type": "stream",
     "text": [
      "###############\n",
      "#.......#....E#\n",
      "#.#.###.#.###.#\n",
      "#.....#.#...#.#\n",
      "#.###.#####.#.#\n",
      "#.#.#.......#.#\n",
      "#.#.#####.###.#\n",
      "#...........#.#\n",
      "###.#.#####.#.#\n",
      "#...#.....#.#.#\n",
      "#.#.#.###.#.#.#\n",
      "#.....#...#.#.#\n",
      "#.###.#.#.#.#.#\n",
      "#S..#.....#...#\n",
      "###############\n",
      "\n"
     ]
    }
   ],
   "source": [
    "input_file = \"example.txt\"\n",
    "input = Path(input_file).read_text()\n",
    "print(input)"
   ]
  },
  {
   "cell_type": "code",
   "execution_count": 3,
   "metadata": {},
   "outputs": [],
   "source": [
    "WALL = \"#\"\n",
    "EMPTY = \".\"\n",
    "START = \"S\"\n",
    "END = \"E\"\n",
    "\n",
    "\n",
    "class Direction(Enum):\n",
    "    Up = (-1, 0)\n",
    "    Right = (0, 1)\n",
    "    Down = (1, 0)\n",
    "    Left = (0, -1)\n",
    "\n",
    "    @property\n",
    "    def index(self) -> int:\n",
    "        return list(Direction).index(self)\n",
    "\n",
    "\n",
    "class Rotation(Enum):\n",
    "    CounterClockwise = -1\n",
    "    Clockwise = 1\n",
    "\n",
    "\n",
    "def rotate(direction: Direction, rotation: Rotation) -> Direction:\n",
    "    directions = list(Direction)\n",
    "    direction_index = directions.index(direction)\n",
    "    return directions[(direction_index + rotation.value) % len(directions)]\n",
    "\n",
    "\n",
    "def move(coordinate: tuple, direction: Direction) -> tuple:\n",
    "    return tuple(np.array(coordinate) + np.array(direction.value))"
   ]
  },
  {
   "cell_type": "code",
   "execution_count": 4,
   "metadata": {},
   "outputs": [
    {
     "name": "stdout",
     "output_type": "stream",
     "text": [
      "[['#' '#' '#' '#' '#' '#' '#' '#' '#' '#' '#' '#' '#' '#' '#']\n",
      " ['#' '.' '.' '.' '.' '.' '.' '.' '#' '.' '.' '.' '.' '.' '#']\n",
      " ['#' '.' '#' '.' '#' '#' '#' '.' '#' '.' '#' '#' '#' '.' '#']\n",
      " ['#' '.' '.' '.' '.' '.' '#' '.' '#' '.' '.' '.' '#' '.' '#']\n",
      " ['#' '.' '#' '#' '#' '.' '#' '#' '#' '#' '#' '.' '#' '.' '#']\n",
      " ['#' '.' '#' '.' '#' '.' '.' '.' '.' '.' '.' '.' '#' '.' '#']\n",
      " ['#' '.' '#' '.' '#' '#' '#' '#' '#' '.' '#' '#' '#' '.' '#']\n",
      " ['#' '.' '.' '.' '.' '.' '.' '.' '.' '.' '.' '.' '#' '.' '#']\n",
      " ['#' '#' '#' '.' '#' '.' '#' '#' '#' '#' '#' '.' '#' '.' '#']\n",
      " ['#' '.' '.' '.' '#' '.' '.' '.' '.' '.' '#' '.' '#' '.' '#']\n",
      " ['#' '.' '#' '.' '#' '.' '#' '#' '#' '.' '#' '.' '#' '.' '#']\n",
      " ['#' '.' '.' '.' '.' '.' '#' '.' '.' '.' '#' '.' '#' '.' '#']\n",
      " ['#' '.' '#' '#' '#' '.' '#' '.' '#' '.' '#' '.' '#' '.' '#']\n",
      " ['#' '.' '.' '.' '#' '.' '.' '.' '.' '.' '#' '.' '.' '.' '#']\n",
      " ['#' '#' '#' '#' '#' '#' '#' '#' '#' '#' '#' '#' '#' '#' '#']]\n"
     ]
    }
   ],
   "source": [
    "maze = np.array([[space for space in line] for line in input.splitlines()])\n",
    "start = np.argwhere(maze == START)[0]\n",
    "end = np.argwhere(maze == END)[0]\n",
    "maze[tuple(start)] = EMPTY\n",
    "maze[tuple(end)] = EMPTY\n",
    "print(maze)"
   ]
  },
  {
   "cell_type": "markdown",
   "metadata": {},
   "source": [
    "## Part I"
   ]
  },
  {
   "cell_type": "code",
   "execution_count": 5,
   "metadata": {},
   "outputs": [
    {
     "data": {
      "text/plain": [
       "7036"
      ]
     },
     "execution_count": 5,
     "metadata": {},
     "output_type": "execute_result"
    }
   ],
   "source": [
    "# coordinate, direction, weight\n",
    "start_state = (tuple(start), Direction.Right, 0)\n",
    "queue = [start_state]\n",
    "visited = {}\n",
    "\n",
    "while queue:\n",
    "    coordinate, direction, weight = queue.pop(0)\n",
    "    clockwise = rotate(direction, Rotation.Clockwise)\n",
    "    counter_clockwise = rotate(direction, Rotation.CounterClockwise)\n",
    "    to_check = [\n",
    "        (move(coordinate, direction), direction, weight + 1),\n",
    "        (move(coordinate, clockwise), clockwise, weight + 1001),\n",
    "        (move(coordinate, counter_clockwise), counter_clockwise, weight + 1001),\n",
    "    ]\n",
    "\n",
    "    for coordinate, direction, weight in to_check:\n",
    "        if maze[coordinate] == WALL:\n",
    "            continue\n",
    "\n",
    "        if weight < visited.get((coordinate, direction), np.inf):\n",
    "            visited[(coordinate, direction)] = weight\n",
    "            queue.append((coordinate, direction, weight))\n",
    "\n",
    "possible_ends = [\n",
    "    (possible_end[0], possible_end[1], score)\n",
    "    for possible_end, score in visited.items()\n",
    "    if possible_end[0] == tuple(end)\n",
    "]\n",
    "possible_ends.sort(key=lambda x: x[2])\n",
    "min_weight = possible_ends[0][2]\n",
    "min_weight"
   ]
  },
  {
   "cell_type": "code",
   "execution_count": 6,
   "metadata": {},
   "outputs": [
    {
     "data": {
      "text/plain": [
       "(<Direction.Up: (-1, 0)>, 7036)"
      ]
     },
     "execution_count": 6,
     "metadata": {},
     "output_type": "execute_result"
    }
   ],
   "source": [
    "# Part I using network X\n",
    "\n",
    "G = nx.Graph()\n",
    "start_state = (tuple(start), Direction.Right)\n",
    "queue = [start_state]\n",
    "\n",
    "while queue:\n",
    "    coordinate, direction = queue.pop(0)\n",
    "    clockwise = rotate(direction, Rotation.Clockwise)\n",
    "    counter_clockwise = rotate(direction, Rotation.CounterClockwise)\n",
    "    to_check = [\n",
    "        (move(coordinate, direction), direction, 1),\n",
    "        (move(coordinate, clockwise), clockwise, 1001),\n",
    "        (move(coordinate, counter_clockwise), counter_clockwise, 1001),\n",
    "    ]\n",
    "\n",
    "    for new_coordinate, new_direction, weight in to_check:\n",
    "        if maze[new_coordinate] == WALL:\n",
    "            continue\n",
    "        if (new_coordinate, new_direction) not in G.nodes:\n",
    "            queue.append((new_coordinate, new_direction))\n",
    "        G.add_edge(\n",
    "            (coordinate, direction),\n",
    "            (new_coordinate, new_direction),\n",
    "            weight=weight,\n",
    "        )\n",
    "\n",
    "min_length = np.inf\n",
    "min_direction = None\n",
    "for direction in Direction:\n",
    "    try:\n",
    "        length = nx.dijkstra_path_length(\n",
    "            G, (tuple(start), Direction.Right), (tuple(end), direction)\n",
    "        )\n",
    "    except Exception:\n",
    "        continue\n",
    "    else:\n",
    "        if length < min_length:\n",
    "            min_length = length\n",
    "            min_direction = direction\n",
    "min_direction, min_length"
   ]
  },
  {
   "cell_type": "markdown",
   "metadata": {},
   "source": [
    "## Part II"
   ]
  },
  {
   "cell_type": "code",
   "execution_count": 7,
   "metadata": {},
   "outputs": [
    {
     "data": {
      "text/plain": [
       "45"
      ]
     },
     "execution_count": 7,
     "metadata": {},
     "output_type": "execute_result"
    }
   ],
   "source": [
    "len(\n",
    "    set(\n",
    "        [\n",
    "            node[0]\n",
    "            for path in nx.all_shortest_paths(\n",
    "                G,\n",
    "                (tuple(start), Direction.Right),\n",
    "                (tuple(end), min_direction),\n",
    "                weight=\"weight\",\n",
    "                method=\"dijkstra\",\n",
    "            )\n",
    "            for node in path\n",
    "        ]\n",
    "    )\n",
    ")"
   ]
  },
  {
   "cell_type": "code",
   "execution_count": null,
   "metadata": {},
   "outputs": [],
   "source": []
  }
 ],
 "metadata": {
  "kernelspec": {
   "display_name": "analysis",
   "language": "python",
   "name": "python3"
  },
  "language_info": {
   "codemirror_mode": {
    "name": "ipython",
    "version": 3
   },
   "file_extension": ".py",
   "mimetype": "text/x-python",
   "name": "python",
   "nbconvert_exporter": "python",
   "pygments_lexer": "ipython3",
   "version": "3.12.1"
  }
 },
 "nbformat": 4,
 "nbformat_minor": 2
}

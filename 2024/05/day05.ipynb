{
 "cells": [
  {
   "cell_type": "code",
   "execution_count": 313,
   "metadata": {},
   "outputs": [],
   "source": [
    "from pathlib import Path\n",
    "import pandas as pd\n",
    "from collections import defaultdict"
   ]
  },
  {
   "cell_type": "code",
   "execution_count": 314,
   "metadata": {},
   "outputs": [
    {
     "name": "stdout",
     "output_type": "stream",
     "text": [
      "47|53\n",
      "97|13\n",
      "97|61\n",
      "97|47\n",
      "75|29\n",
      "61|13\n",
      "75|53\n",
      "29|13\n",
      "97|29\n",
      "53|29\n",
      "61|53\n",
      "97|53\n",
      "61|29\n",
      "47|13\n",
      "75|47\n",
      "97|75\n",
      "47|61\n",
      "75|61\n",
      "47|29\n",
      "75|13\n",
      "53|13\n",
      "\n",
      "75,47,61,53,29\n",
      "97,61,53,29,13\n",
      "75,29,13\n",
      "75,97,47,61,53\n",
      "61,13,29\n",
      "97,13,75,29,47\n",
      "\n"
     ]
    }
   ],
   "source": [
    "input = Path(\"example.txt\").read_text()\n",
    "print(input)"
   ]
  },
  {
   "cell_type": "code",
   "execution_count": 315,
   "metadata": {},
   "outputs": [],
   "source": [
    "raw_rules, raw_updates = input.split(\"\\n\\n\")"
   ]
  },
  {
   "cell_type": "code",
   "execution_count": 316,
   "metadata": {},
   "outputs": [
    {
     "data": {
      "text/plain": [
       "[[75, 47, 61, 53, 29],\n",
       " [97, 61, 53, 29, 13],\n",
       " [75, 29, 13],\n",
       " [75, 97, 47, 61, 53],\n",
       " [61, 13, 29],\n",
       " [97, 13, 75, 29, 47]]"
      ]
     },
     "execution_count": 316,
     "metadata": {},
     "output_type": "execute_result"
    }
   ],
   "source": [
    "updates = [\n",
    "    [int(page) for page in update.split(\",\")] for update in raw_updates.splitlines()\n",
    "]\n",
    "updates"
   ]
  },
  {
   "cell_type": "code",
   "execution_count": 317,
   "metadata": {},
   "outputs": [
    {
     "data": {
      "text/html": [
       "<div>\n",
       "<style scoped>\n",
       "    .dataframe tbody tr th:only-of-type {\n",
       "        vertical-align: middle;\n",
       "    }\n",
       "\n",
       "    .dataframe tbody tr th {\n",
       "        vertical-align: top;\n",
       "    }\n",
       "\n",
       "    .dataframe thead th {\n",
       "        text-align: right;\n",
       "    }\n",
       "</style>\n",
       "<table border=\"1\" class=\"dataframe\">\n",
       "  <thead>\n",
       "    <tr style=\"text-align: right;\">\n",
       "      <th></th>\n",
       "      <th>First</th>\n",
       "      <th>Second</th>\n",
       "    </tr>\n",
       "  </thead>\n",
       "  <tbody>\n",
       "    <tr>\n",
       "      <th>0</th>\n",
       "      <td>47</td>\n",
       "      <td>53</td>\n",
       "    </tr>\n",
       "    <tr>\n",
       "      <th>1</th>\n",
       "      <td>97</td>\n",
       "      <td>13</td>\n",
       "    </tr>\n",
       "    <tr>\n",
       "      <th>2</th>\n",
       "      <td>97</td>\n",
       "      <td>61</td>\n",
       "    </tr>\n",
       "    <tr>\n",
       "      <th>3</th>\n",
       "      <td>97</td>\n",
       "      <td>47</td>\n",
       "    </tr>\n",
       "    <tr>\n",
       "      <th>4</th>\n",
       "      <td>75</td>\n",
       "      <td>29</td>\n",
       "    </tr>\n",
       "    <tr>\n",
       "      <th>5</th>\n",
       "      <td>61</td>\n",
       "      <td>13</td>\n",
       "    </tr>\n",
       "    <tr>\n",
       "      <th>6</th>\n",
       "      <td>75</td>\n",
       "      <td>53</td>\n",
       "    </tr>\n",
       "    <tr>\n",
       "      <th>7</th>\n",
       "      <td>29</td>\n",
       "      <td>13</td>\n",
       "    </tr>\n",
       "    <tr>\n",
       "      <th>8</th>\n",
       "      <td>97</td>\n",
       "      <td>29</td>\n",
       "    </tr>\n",
       "    <tr>\n",
       "      <th>9</th>\n",
       "      <td>53</td>\n",
       "      <td>29</td>\n",
       "    </tr>\n",
       "    <tr>\n",
       "      <th>10</th>\n",
       "      <td>61</td>\n",
       "      <td>53</td>\n",
       "    </tr>\n",
       "    <tr>\n",
       "      <th>11</th>\n",
       "      <td>97</td>\n",
       "      <td>53</td>\n",
       "    </tr>\n",
       "    <tr>\n",
       "      <th>12</th>\n",
       "      <td>61</td>\n",
       "      <td>29</td>\n",
       "    </tr>\n",
       "    <tr>\n",
       "      <th>13</th>\n",
       "      <td>47</td>\n",
       "      <td>13</td>\n",
       "    </tr>\n",
       "    <tr>\n",
       "      <th>14</th>\n",
       "      <td>75</td>\n",
       "      <td>47</td>\n",
       "    </tr>\n",
       "    <tr>\n",
       "      <th>15</th>\n",
       "      <td>97</td>\n",
       "      <td>75</td>\n",
       "    </tr>\n",
       "    <tr>\n",
       "      <th>16</th>\n",
       "      <td>47</td>\n",
       "      <td>61</td>\n",
       "    </tr>\n",
       "    <tr>\n",
       "      <th>17</th>\n",
       "      <td>75</td>\n",
       "      <td>61</td>\n",
       "    </tr>\n",
       "    <tr>\n",
       "      <th>18</th>\n",
       "      <td>47</td>\n",
       "      <td>29</td>\n",
       "    </tr>\n",
       "    <tr>\n",
       "      <th>19</th>\n",
       "      <td>75</td>\n",
       "      <td>13</td>\n",
       "    </tr>\n",
       "    <tr>\n",
       "      <th>20</th>\n",
       "      <td>53</td>\n",
       "      <td>13</td>\n",
       "    </tr>\n",
       "  </tbody>\n",
       "</table>\n",
       "</div>"
      ],
      "text/plain": [
       "    First  Second\n",
       "0      47      53\n",
       "1      97      13\n",
       "2      97      61\n",
       "3      97      47\n",
       "4      75      29\n",
       "5      61      13\n",
       "6      75      53\n",
       "7      29      13\n",
       "8      97      29\n",
       "9      53      29\n",
       "10     61      53\n",
       "11     97      53\n",
       "12     61      29\n",
       "13     47      13\n",
       "14     75      47\n",
       "15     97      75\n",
       "16     47      61\n",
       "17     75      61\n",
       "18     47      29\n",
       "19     75      13\n",
       "20     53      13"
      ]
     },
     "execution_count": 317,
     "metadata": {},
     "output_type": "execute_result"
    }
   ],
   "source": [
    "rule_df = pd.DataFrame(\n",
    "    [[rule for rule in rule_line.split(\"|\")] for rule_line in raw_rules.splitlines()],\n",
    "    columns=[\"First\", \"Second\"],\n",
    "    dtype=\"Int16\",\n",
    ")\n",
    "rule_df"
   ]
  },
  {
   "cell_type": "code",
   "execution_count": 318,
   "metadata": {},
   "outputs": [
    {
     "data": {
      "text/plain": [
       "defaultdict(set,\n",
       "            {13: {29, 47, 53, 61, 75, 97},\n",
       "             29: {47, 53, 61, 75, 97},\n",
       "             47: {75, 97},\n",
       "             53: {47, 61, 75, 97},\n",
       "             61: {47, 75, 97},\n",
       "             75: {97}})"
      ]
     },
     "execution_count": 318,
     "metadata": {},
     "output_type": "execute_result"
    }
   ],
   "source": [
    "rules = rule_df.groupby(\"Second\")[\"First\"].apply(set).to_dict()\n",
    "rules = defaultdict(set, rules)\n",
    "rules"
   ]
  },
  {
   "cell_type": "code",
   "execution_count": 321,
   "metadata": {},
   "outputs": [
    {
     "data": {
      "text/plain": [
       "143"
      ]
     },
     "execution_count": 321,
     "metadata": {},
     "output_type": "execute_result"
    }
   ],
   "source": [
    "# solution 1\n",
    "\n",
    "\n",
    "def find_middle(update: list) -> int:\n",
    "    return update[len(update) // 2]\n",
    "\n",
    "\n",
    "def find_broken_rules(pages: list, rule: set) -> set:\n",
    "    return set(pages).intersection(rule)\n",
    "\n",
    "\n",
    "def process(update):\n",
    "    for i, page in enumerate(update):\n",
    "        following_pages = update[i + 1 :]\n",
    "        broken_rules = find_broken_rules(following_pages, rules[page])\n",
    "        if len(broken_rules) > 0:\n",
    "            return 0\n",
    "    return find_middle(update)\n",
    "\n",
    "\n",
    "sum([process(update) for update in updates])"
   ]
  },
  {
   "cell_type": "code",
   "execution_count": 329,
   "metadata": {},
   "outputs": [
    {
     "data": {
      "text/plain": [
       "123"
      ]
     },
     "execution_count": 329,
     "metadata": {},
     "output_type": "execute_result"
    }
   ],
   "source": [
    "# solution 2\n",
    "def process(update):\n",
    "    i = 0\n",
    "    num_updates = len(update)\n",
    "    has_broken_rule = False\n",
    "    while i < num_updates:\n",
    "        page = update[i]\n",
    "        following_pages = update[i + 1 :]\n",
    "        broken_rules = find_broken_rules(following_pages, rules[page])\n",
    "        if len(broken_rules) == 0:\n",
    "            i += 1\n",
    "            continue\n",
    "        \n",
    "        has_broken_rule = True\n",
    "        # Bubble sort?\n",
    "        update.remove(page)\n",
    "        for j, following_page in enumerate(following_pages[::-1]):\n",
    "            if following_page in broken_rules:\n",
    "                update.insert(len(update) - j, page)\n",
    "                break\n",
    "            \n",
    "    return update[len(update) // 2] if has_broken_rule else 0\n",
    "\n",
    "\n",
    "sum([process(update.copy()) for update in updates])"
   ]
  }
 ],
 "metadata": {
  "kernelspec": {
   "display_name": "analysis",
   "language": "python",
   "name": "python3"
  },
  "language_info": {
   "codemirror_mode": {
    "name": "ipython",
    "version": 3
   },
   "file_extension": ".py",
   "mimetype": "text/x-python",
   "name": "python",
   "nbconvert_exporter": "python",
   "pygments_lexer": "ipython3",
   "version": "3.12.1"
  }
 },
 "nbformat": 4,
 "nbformat_minor": 2
}

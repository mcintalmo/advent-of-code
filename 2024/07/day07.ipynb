{
 "cells": [
  {
   "cell_type": "code",
   "execution_count": 1,
   "metadata": {},
   "outputs": [],
   "source": [
    "import numpy as np\n",
    "from pathlib import Path\n",
    "from itertools import product as cartesian_product\n",
    "from tqdm import tqdm"
   ]
  },
  {
   "cell_type": "code",
   "execution_count": 2,
   "metadata": {},
   "outputs": [
    {
     "name": "stdout",
     "output_type": "stream",
     "text": [
      "190: 10 19\n",
      "3267: 81 40 27\n",
      "83: 17 5\n",
      "156: 15 6\n",
      "7290: 6 8 6 15\n",
      "161011: 16 10 13\n",
      "192: 17 8 14\n",
      "21037: 9 7 18 13\n",
      "292: 11 6 16 20\n",
      "\n"
     ]
    }
   ],
   "source": [
    "input = Path(\"example.txt\").read_text()\n",
    "print(input)"
   ]
  },
  {
   "cell_type": "code",
   "execution_count": 3,
   "metadata": {},
   "outputs": [
    {
     "data": {
      "text/plain": [
       "[(190, array([10, 19], dtype=int64)),\n",
       " (3267, array([81, 40, 27], dtype=int64)),\n",
       " (83, array([17,  5], dtype=int64)),\n",
       " (156, array([15,  6], dtype=int64)),\n",
       " (7290, array([ 6,  8,  6, 15], dtype=int64)),\n",
       " (161011, array([16, 10, 13], dtype=int64)),\n",
       " (192, array([17,  8, 14], dtype=int64)),\n",
       " (21037, array([ 9,  7, 18, 13], dtype=int64)),\n",
       " (292, array([11,  6, 16, 20], dtype=int64))]"
      ]
     },
     "execution_count": 3,
     "metadata": {},
     "output_type": "execute_result"
    }
   ],
   "source": [
    "equations = []\n",
    "for line in input.splitlines():\n",
    "    result, values = line.split(\":\")\n",
    "    values = values.split()\n",
    "    equations.append((int(result), np.array(values, dtype=np.int64)))\n",
    "equations"
   ]
  },
  {
   "cell_type": "code",
   "execution_count": 4,
   "metadata": {},
   "outputs": [
    {
     "data": {
      "text/plain": [
       "3749"
      ]
     },
     "execution_count": 4,
     "metadata": {},
     "output_type": "execute_result"
    }
   ],
   "source": [
    "# Solution 1\n",
    "def test(equation: tuple[int, np.ndarray]) -> int:\n",
    "    result, values = equation\n",
    "    num_operators = len(values) - 1\n",
    "    operator_possibilities = list(cartesian_product(range(2), repeat=num_operators))\n",
    "\n",
    "    for operators in operator_possibilities:\n",
    "        current = values[0]\n",
    "        for i in range(num_operators):\n",
    "            if operators[i]:\n",
    "                current *= values[i + 1]\n",
    "            else:\n",
    "                current += values[i + 1]\n",
    "\n",
    "        if current == result:\n",
    "            return result\n",
    "    return 0\n",
    "\n",
    "\n",
    "sum([test(equation) for equation in equations])"
   ]
  },
  {
   "cell_type": "code",
   "execution_count": 5,
   "metadata": {},
   "outputs": [
    {
     "name": "stderr",
     "output_type": "stream",
     "text": [
      "100%|██████████| 9/9 [00:00<?, ?it/s]\n"
     ]
    },
    {
     "data": {
      "text/plain": [
       "11387"
      ]
     },
     "execution_count": 5,
     "metadata": {},
     "output_type": "execute_result"
    }
   ],
   "source": [
    "# Solution 2\n",
    "def test(equation: tuple[int, np.ndarray]) -> int:\n",
    "    result, values = equation\n",
    "    num_operators = len(values) - 1\n",
    "    operator_possibilities = list(cartesian_product(range(3), repeat=num_operators))\n",
    "\n",
    "    for operators in operator_possibilities:\n",
    "        current = values[0]\n",
    "        for i in range(num_operators):\n",
    "            if operators[i] == 0:\n",
    "                current *= values[i + 1]\n",
    "            elif operators[i] == 1:\n",
    "                current += values[i + 1]\n",
    "            else:\n",
    "                current = int(str(current) + str(values[i + 1]))\n",
    "\n",
    "        if current == result:\n",
    "            return result\n",
    "    return 0\n",
    "\n",
    "\n",
    "sum([test(equation) for equation in tqdm(equations)])"
   ]
  },
  {
   "cell_type": "code",
   "execution_count": null,
   "metadata": {},
   "outputs": [],
   "source": []
  }
 ],
 "metadata": {
  "kernelspec": {
   "display_name": "analysis",
   "language": "python",
   "name": "python3"
  },
  "language_info": {
   "codemirror_mode": {
    "name": "ipython",
    "version": 3
   },
   "file_extension": ".py",
   "mimetype": "text/x-python",
   "name": "python",
   "nbconvert_exporter": "python",
   "pygments_lexer": "ipython3",
   "version": "3.12.1"
  }
 },
 "nbformat": 4,
 "nbformat_minor": 2
}

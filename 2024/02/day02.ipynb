{
 "cells": [
  {
   "cell_type": "code",
   "execution_count": 1,
   "metadata": {},
   "outputs": [],
   "source": [
    "import numpy as np\n",
    "from pathlib import Path"
   ]
  },
  {
   "cell_type": "code",
   "execution_count": 2,
   "metadata": {},
   "outputs": [
    {
     "name": "stdout",
     "output_type": "stream",
     "text": [
      "7 6 4 2 1\n",
      "1 2 7 8 9\n",
      "9 7 6 2 1\n",
      "1 3 2 4 5\n",
      "8 6 4 4 1\n",
      "1 3 6 7 9\n",
      "\n"
     ]
    }
   ],
   "source": [
    "input = Path(\"example.txt\").read_text()\n",
    "print(input)"
   ]
  },
  {
   "cell_type": "code",
   "execution_count": 3,
   "metadata": {},
   "outputs": [
    {
     "data": {
      "text/plain": [
       "[array([-1, -2, -2, -1]),\n",
       " array([1, 5, 1, 1]),\n",
       " array([-2, -1, -4, -1]),\n",
       " array([ 2, -1,  2,  1]),\n",
       " array([-2, -2,  0, -3]),\n",
       " array([2, 3, 1, 2])]"
      ]
     },
     "execution_count": 3,
     "metadata": {},
     "output_type": "execute_result"
    }
   ],
   "source": [
    "diff = [\n",
    "    np.diff(np.array([int(value) for value in line.split()]))\n",
    "    for line in input.splitlines()\n",
    "]\n",
    "diff"
   ]
  },
  {
   "cell_type": "code",
   "execution_count": 4,
   "metadata": {},
   "outputs": [
    {
     "data": {
      "text/plain": [
       "2"
      ]
     },
     "execution_count": 4,
     "metadata": {},
     "output_type": "execute_result"
    }
   ],
   "source": [
    "# solution 1\n",
    "is_safe = [\n",
    "    ((row < 0).all() | (row > 0).all()) & (np.abs(row).max() <= 3) for row in diff\n",
    "]\n",
    "sum(is_safe)"
   ]
  },
  {
   "cell_type": "code",
   "execution_count": 5,
   "metadata": {},
   "outputs": [
    {
     "data": {
      "text/plain": [
       "4"
      ]
     },
     "execution_count": 5,
     "metadata": {},
     "output_type": "execute_result"
    }
   ],
   "source": [
    "# solution 2\n",
    "safe_rows = []\n",
    "for line in input.splitlines():\n",
    "    diff = np.diff(np.array([int(value) for value in line.split()]))\n",
    "    is_safe = ((diff < 0).all() | (diff > 0).all()) & (np.abs(diff).max() <= 3)\n",
    "    if is_safe:\n",
    "        safe_rows.append(is_safe)\n",
    "        continue\n",
    "    for i in range(len(line)):\n",
    "        # leave out the ith value\n",
    "        test = line.split()[:i] + line.split()[i + 1 :]\n",
    "        diff = np.diff(np.array([int(value) for value in test]))\n",
    "        is_safe = ((diff < 0).all() | (diff > 0).all()) & (np.abs(diff).max() <= 3)\n",
    "        if is_safe:\n",
    "            break\n",
    "    safe_rows.append(is_safe)\n",
    "sum(safe_rows)"
   ]
  }
 ],
 "metadata": {
  "kernelspec": {
   "display_name": "analysis",
   "language": "python",
   "name": "python3"
  },
  "language_info": {
   "codemirror_mode": {
    "name": "ipython",
    "version": 3
   },
   "file_extension": ".py",
   "mimetype": "text/x-python",
   "name": "python",
   "nbconvert_exporter": "python",
   "pygments_lexer": "ipython3",
   "version": "3.12.1"
  }
 },
 "nbformat": 4,
 "nbformat_minor": 2
}

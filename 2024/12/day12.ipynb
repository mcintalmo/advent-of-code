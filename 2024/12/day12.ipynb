{
 "cells": [
  {
   "cell_type": "markdown",
   "metadata": {},
   "source": [
    "# Day 12"
   ]
  },
  {
   "cell_type": "code",
   "execution_count": 1,
   "metadata": {},
   "outputs": [],
   "source": [
    "from itertools import combinations, product\n",
    "from pathlib import Path\n",
    "\n",
    "import networkx as nx\n",
    "import numpy as np"
   ]
  },
  {
   "cell_type": "code",
   "execution_count": 2,
   "metadata": {},
   "outputs": [
    {
     "name": "stdout",
     "output_type": "stream",
     "text": [
      "RRRRIICCFF\n",
      "RRRRIICCCF\n",
      "VVRRRCCFFF\n",
      "VVRCCCJFFF\n",
      "VVVVCJJCFE\n",
      "VVIVCCJJEE\n",
      "VVIIICJJEE\n",
      "MIIIIIJJEE\n",
      "MIIISIJEEE\n",
      "MMMISSJEEE\n",
      "\n"
     ]
    }
   ],
   "source": [
    "input = Path(\"example.txt\").read_text()\n",
    "print(input)"
   ]
  },
  {
   "cell_type": "code",
   "execution_count": 3,
   "metadata": {},
   "outputs": [
    {
     "name": "stdout",
     "output_type": "stream",
     "text": [
      "[[17 17 17 17  8  8  2  2  5  5]\n",
      " [17 17 17 17  8  8  2  2  2  5]\n",
      " [21 21 17 17 17  2  2  5  5  5]\n",
      " [21 21 17  2  2  2  9  5  5  5]\n",
      " [21 21 21 21  2  9  9  2  5  4]\n",
      " [21 21  8 21  2  2  9  9  4  4]\n",
      " [21 21  8  8  8  2  9  9  4  4]\n",
      " [12  8  8  8  8  8  9  9  4  4]\n",
      " [12  8  8  8 18  8  9  4  4  4]\n",
      " [12 12 12  8 18 18  9  4  4  4]]\n"
     ]
    }
   ],
   "source": [
    "offset = ord(\"A\")\n",
    "arr = np.array(\n",
    "    [[ord(character) - offset for character in line] for line in input.splitlines()]\n",
    ")\n",
    "print(arr)"
   ]
  },
  {
   "cell_type": "code",
   "execution_count": 4,
   "metadata": {},
   "outputs": [
    {
     "name": "stdout",
     "output_type": "stream",
     "text": [
      "[[-2 -2 -2 -2 -2 -2 -2 -2 -2 -2 -2 -2]\n",
      " [-2 17 17 17 17  8  8  2  2  5  5 -2]\n",
      " [-2 17 17 17 17  8  8  2  2  2  5 -2]\n",
      " [-2 21 21 17 17 17  2  2  5  5  5 -2]\n",
      " [-2 21 21 17  2  2  2  9  5  5  5 -2]\n",
      " [-2 21 21 21 21  2  9  9  2  5  4 -2]\n",
      " [-2 21 21  8 21  2  2  9  9  4  4 -2]\n",
      " [-2 21 21  8  8  8  2  9  9  4  4 -2]\n",
      " [-2 12  8  8  8  8  8  9  9  4  4 -2]\n",
      " [-2 12  8  8  8 18  8  9  4  4  4 -2]\n",
      " [-2 12 12 12  8 18 18  9  4  4  4 -2]\n",
      " [-2 -2 -2 -2 -2 -2 -2 -2 -2 -2 -2 -2]]\n"
     ]
    }
   ],
   "source": [
    "PAD_VALUE = -2\n",
    "pad_arr = np.pad(arr, pad_width=1, constant_values=PAD_VALUE)\n",
    "print(pad_arr)"
   ]
  },
  {
   "cell_type": "code",
   "execution_count": 5,
   "metadata": {},
   "outputs": [
    {
     "name": "stdout",
     "output_type": "stream",
     "text": [
      "100\n"
     ]
    }
   ],
   "source": [
    "G = nx.Graph()\n",
    "\n",
    "for height, width in product(range(arr.shape[0]), range(arr.shape[1])):\n",
    "    G.add_node((height, width))\n",
    "\n",
    "shifts = [1]\n",
    "axes = [0, 1]\n",
    "\n",
    "for shift, axis in product(shifts, axes):\n",
    "    same_crop = (pad_arr == np.roll(pad_arr, shift=shift, axis=axis)) & (\n",
    "        pad_arr != PAD_VALUE\n",
    "    )\n",
    "    node_1 = np.argwhere(same_crop) - 1\n",
    "    direction = shift * np.array([1 if axis == 0 else 0, 1 if axis == 1 else 0])\n",
    "    node_2 = node_1 - direction\n",
    "\n",
    "    for n1, n2 in zip(node_1, node_2):\n",
    "        G.add_edge(tuple(n1), tuple(n2))\n",
    "print(len(G.nodes))"
   ]
  },
  {
   "cell_type": "markdown",
   "metadata": {},
   "source": [
    "## Part I"
   ]
  },
  {
   "cell_type": "code",
   "execution_count": 6,
   "metadata": {},
   "outputs": [
    {
     "data": {
      "text/plain": [
       "1930"
      ]
     },
     "execution_count": 6,
     "metadata": {},
     "output_type": "execute_result"
    }
   ],
   "source": [
    "cost = 0\n",
    "for component in nx.components.connected_components(G):\n",
    "    perimeter = 0\n",
    "    area = 0\n",
    "    for node in component:\n",
    "        perimeter += 4 - len(G.edges(node))\n",
    "        area += 1\n",
    "    cost += perimeter * area\n",
    "cost"
   ]
  },
  {
   "cell_type": "markdown",
   "metadata": {},
   "source": [
    "## Part II"
   ]
  },
  {
   "cell_type": "code",
   "execution_count": 9,
   "metadata": {},
   "outputs": [],
   "source": [
    "def is_line(node_1, node_2) -> bool:\n",
    "\n",
    "    return node_1[0] == node_2[0] or node_1[1] == node_2[1]\n",
    "\n",
    "\n",
    "def is_concave(G, connector, node_1, node_2) -> bool:\n",
    "\n",
    "    return set(nx.neighbors(G, node_1)).intersection(\n",
    "        set(nx.neighbors(G, node_2))\n",
    "    ) == set([connector])"
   ]
  },
  {
   "cell_type": "code",
   "execution_count": 8,
   "metadata": {},
   "outputs": [
    {
     "data": {
      "text/plain": [
       "1206"
      ]
     },
     "execution_count": 8,
     "metadata": {},
     "output_type": "execute_result"
    }
   ],
   "source": [
    "costs = []\n",
    "for component in nx.components.connected_components(G):\n",
    "    sides = 0\n",
    "    area = len(component)\n",
    "    for node in component:\n",
    "        neighbors = list(nx.neighbors(G, node))\n",
    "        num_neighbors = len(neighbors)\n",
    "        if num_neighbors == 0:\n",
    "            # Single block\n",
    "            sides += 4\n",
    "        elif num_neighbors == 1:\n",
    "            # Tip\n",
    "            sides += 2\n",
    "        elif num_neighbors == 2:\n",
    "            # Corner (convex) or elbow (convex + concave)\n",
    "            n1, n2 = neighbors\n",
    "            if is_line(n1, n2):\n",
    "                continue\n",
    "            if is_concave(G, node, n1, n2):\n",
    "                sides += 1\n",
    "            sides += 1\n",
    "        else:\n",
    "            # Check for concave corners\n",
    "            for n1, n2 in combinations(neighbors, 2):\n",
    "                if is_line(n1, n2):\n",
    "                    continue\n",
    "                if is_concave(G, node, n1, n2):\n",
    "                    sides += 1\n",
    "    costs.append(sides * area)\n",
    "sum(costs)"
   ]
  },
  {
   "cell_type": "code",
   "execution_count": null,
   "metadata": {},
   "outputs": [],
   "source": []
  }
 ],
 "metadata": {
  "kernelspec": {
   "display_name": "analysis",
   "language": "python",
   "name": "python3"
  },
  "language_info": {
   "codemirror_mode": {
    "name": "ipython",
    "version": 3
   },
   "file_extension": ".py",
   "mimetype": "text/x-python",
   "name": "python",
   "nbconvert_exporter": "python",
   "pygments_lexer": "ipython3",
   "version": "3.12.1"
  }
 },
 "nbformat": 4,
 "nbformat_minor": 2
}

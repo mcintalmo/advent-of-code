{
 "cells": [
  {
   "cell_type": "code",
   "execution_count": 428,
   "metadata": {},
   "outputs": [],
   "source": [
    "from pathlib import Path\n",
    "import numpy as np\n",
    "from tqdm import tqdm"
   ]
  },
  {
   "cell_type": "code",
   "execution_count": 429,
   "metadata": {},
   "outputs": [
    {
     "name": "stdout",
     "output_type": "stream",
     "text": [
      "....#.....\n",
      ".........#\n",
      "..........\n",
      "..#.......\n",
      ".......#..\n",
      "..........\n",
      ".#..^.....\n",
      "........#.\n",
      "#.........\n",
      "......#...\n",
      "\n"
     ]
    }
   ],
   "source": [
    "input = Path(\"example.txt\").read_text()\n",
    "print(input)"
   ]
  },
  {
   "cell_type": "code",
   "execution_count": 430,
   "metadata": {},
   "outputs": [],
   "source": [
    "GUARD = \"^\"\n",
    "OBSTACLE = \"#\"\n",
    "UP = np.array([-1, 0])\n",
    "RIGHT = np.array([0, 1])\n",
    "DOWN = np.array([1, 0])\n",
    "LEFT = np.array([0, -1])\n",
    "DIRECTIONS = (UP, RIGHT, DOWN, LEFT)"
   ]
  },
  {
   "cell_type": "code",
   "execution_count": 431,
   "metadata": {},
   "outputs": [
    {
     "name": "stdout",
     "output_type": "stream",
     "text": [
      "[['.' '.' '.' '.' '#' '.' '.' '.' '.' '.']\n",
      " ['.' '.' '.' '.' '.' '.' '.' '.' '.' '#']\n",
      " ['.' '.' '.' '.' '.' '.' '.' '.' '.' '.']\n",
      " ['.' '.' '#' '.' '.' '.' '.' '.' '.' '.']\n",
      " ['.' '.' '.' '.' '.' '.' '.' '#' '.' '.']\n",
      " ['.' '.' '.' '.' '.' '.' '.' '.' '.' '.']\n",
      " ['.' '#' '.' '.' '^' '.' '.' '.' '.' '.']\n",
      " ['.' '.' '.' '.' '.' '.' '.' '.' '#' '.']\n",
      " ['#' '.' '.' '.' '.' '.' '.' '.' '.' '.']\n",
      " ['.' '.' '.' '.' '.' '.' '#' '.' '.' '.']]\n"
     ]
    }
   ],
   "source": [
    "start_arr = np.array([[char for char in line] for line in input.splitlines()])\n",
    "print(start_arr)"
   ]
  },
  {
   "cell_type": "code",
   "execution_count": 432,
   "metadata": {},
   "outputs": [
    {
     "name": "stdout",
     "output_type": "stream",
     "text": [
      "(6, 4)\n"
     ]
    }
   ],
   "source": [
    "start_position = tuple(np.argwhere(start_arr == GUARD)[0])\n",
    "print(start_position)"
   ]
  },
  {
   "cell_type": "code",
   "execution_count": 433,
   "metadata": {},
   "outputs": [
    {
     "name": "stdout",
     "output_type": "stream",
     "text": [
      "[[0 4]\n",
      " [1 9]\n",
      " [3 2]\n",
      " [4 7]\n",
      " [6 1]\n",
      " [7 8]\n",
      " [8 0]\n",
      " [9 6]]\n"
     ]
    }
   ],
   "source": [
    "obstacle_positions = np.argwhere(start_arr == OBSTACLE)\n",
    "print(obstacle_positions)"
   ]
  },
  {
   "cell_type": "code",
   "execution_count": 434,
   "metadata": {},
   "outputs": [
    {
     "name": "stdout",
     "output_type": "stream",
     "text": [
      "[[0 0 0 0 0 0 0 0 0 0]\n",
      " [0 0 0 0 1 1 1 1 1 0]\n",
      " [0 0 0 0 1 0 0 0 1 0]\n",
      " [0 0 0 0 1 0 0 0 1 0]\n",
      " [0 0 1 1 1 1 1 0 1 0]\n",
      " [0 0 1 0 1 0 1 0 1 0]\n",
      " [0 0 1 1 1 1 1 1 1 0]\n",
      " [0 1 1 1 1 1 1 1 0 0]\n",
      " [0 1 1 1 1 1 1 1 0 0]\n",
      " [0 0 0 0 0 0 0 1 0 0]]\n"
     ]
    }
   ],
   "source": [
    "# Solution 1\n",
    "direction_index = 0\n",
    "direction = UP\n",
    "visited_arr = np.zeros_like(start_arr, dtype=bool)\n",
    "next = start_position\n",
    "position = next\n",
    "\n",
    "while (\n",
    "    next[0] >= 0\n",
    "    and next[0] < visited_arr.shape[0]\n",
    "    and next[1] >= 0\n",
    "    and next[1] < visited_arr.shape[1]\n",
    "):\n",
    "    visited_arr[tuple(position)] = True\n",
    "    next = position + direction\n",
    "    if (next == obstacle_positions).all(axis=1).any():\n",
    "        direction_index = (direction_index + 1) % 4\n",
    "        direction = DIRECTIONS[direction_index]\n",
    "        continue\n",
    "    position = next\n",
    "print(visited_arr.astype(int))"
   ]
  },
  {
   "cell_type": "code",
   "execution_count": 435,
   "metadata": {},
   "outputs": [
    {
     "name": "stderr",
     "output_type": "stream",
     "text": [
      "100%|██████████| 41/41 [00:00<00:00, 2781.14it/s]\n"
     ]
    },
    {
     "data": {
      "text/plain": [
       "6"
      ]
     },
     "execution_count": 435,
     "metadata": {},
     "output_type": "execute_result"
    }
   ],
   "source": [
    "# Solution 2\n",
    "potential_obstacles = np.argwhere(visited_arr)\n",
    "potential_obstacles[(potential_obstacles != start_position).all(axis=1)]\n",
    "confirmed_obstacles = []\n",
    "for obstacle in tqdm(potential_obstacles):\n",
    "    direction_index = 0\n",
    "    direction = UP\n",
    "    visited_direction_arr = np.zeros(\n",
    "        (4, start_arr.shape[0], start_arr.shape[0]),\n",
    "        dtype=bool,\n",
    "    )\n",
    "    next = start_position\n",
    "    position = next\n",
    "    temp_obstacle_positions = np.append(\n",
    "        obstacle_positions,\n",
    "        np.array([obstacle]),\n",
    "        axis=0,\n",
    "    )\n",
    "\n",
    "    cycle = False\n",
    "    while (\n",
    "        position[0] >= 0\n",
    "        and position[0] < start_arr.shape[0]\n",
    "        and position[1] >= 0\n",
    "        and position[1] < start_arr.shape[1]\n",
    "    ):\n",
    "        # print(visited_direction_arr)\n",
    "        if visited_direction_arr[direction_index][tuple(position)]:\n",
    "            cycle = True\n",
    "            break\n",
    "        visited_direction_arr[direction_index][tuple(position)] = True\n",
    "\n",
    "        next = position + direction\n",
    "        if (next == temp_obstacle_positions).all(axis=1).any():\n",
    "            direction_index = (direction_index + 1) % 4\n",
    "            direction = DIRECTIONS[direction_index]\n",
    "            continue\n",
    "        position = next\n",
    "\n",
    "    if cycle:\n",
    "        confirmed_obstacles.append(obstacle)\n",
    "len(confirmed_obstacles)"
   ]
  }
 ],
 "metadata": {
  "kernelspec": {
   "display_name": "analysis",
   "language": "python",
   "name": "python3"
  },
  "language_info": {
   "codemirror_mode": {
    "name": "ipython",
    "version": 3
   },
   "file_extension": ".py",
   "mimetype": "text/x-python",
   "name": "python",
   "nbconvert_exporter": "python",
   "pygments_lexer": "ipython3",
   "version": "3.12.1"
  }
 },
 "nbformat": 4,
 "nbformat_minor": 2
}
